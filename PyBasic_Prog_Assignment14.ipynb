{
 "cells": [
  {
   "cell_type": "markdown",
   "id": "0788d005",
   "metadata": {},
   "source": [
    "# Question 1:\n",
    "Define a class with a generator which can iterate the numbers, which are divisible by\n",
    "7, between a given range 0 and n."
   ]
  },
  {
   "cell_type": "code",
   "execution_count": 4,
   "id": "26350947",
   "metadata": {},
   "outputs": [
    {
     "name": "stdout",
     "output_type": "stream",
     "text": [
      "0 7 14 21 28 35 42 49 56 63 70 77 84 91 98 "
     ]
    }
   ],
   "source": [
    "class genSeven:\n",
    "    def __init__(self,num):\n",
    "        self.num = num\n",
    "    def check(self):\n",
    "        for i in range(self.num):\n",
    "            if i % 7 == 0:\n",
    "                yield i\n",
    "\n",
    "res = genSeven(100)\n",
    "for i in res.check():\n",
    "    print(i, end=\" \")"
   ]
  },
  {
   "cell_type": "markdown",
   "id": "f8626059",
   "metadata": {},
   "source": [
    "# Question 2:\n",
    "Write a program to compute the frequency of the words from the input. The output\n",
    "should output after sorting the key alphanumerically.\n",
    "Suppose the following input is supplied to the program:\n",
    "New to Python or choosing between Python 2 and Python 3? Read Python 2 or\n",
    "Python 3."
   ]
  },
  {
   "cell_type": "code",
   "execution_count": 9,
   "id": "95df0a0f",
   "metadata": {},
   "outputs": [
    {
     "name": "stdout",
     "output_type": "stream",
     "text": [
      "Enter your sequence: New to Python or choosing between Python 2 and Python 3? Read Python 2 or Python 3\n",
      "2:2\n",
      "2:1\n",
      "3:1\n",
      "3?:1\n",
      "New:1\n",
      "Python:5\n",
      "Python:4\n",
      "Python:3\n",
      "Python:2\n",
      "Python:1\n",
      "Read:1\n",
      "and:1\n",
      "between:1\n",
      "choosing:1\n",
      "or:2\n",
      "or:1\n",
      "to:1\n"
     ]
    }
   ],
   "source": [
    "def feq():\n",
    "    l = []\n",
    "    s = input(\"Enter your sequence: \")\n",
    "    l = s.split(\" \")\n",
    "    l.sort()\n",
    "    c = 0\n",
    "    for i in range(len(l)):\n",
    "        c=1\n",
    "        for j in range(i+1,len(l)):\n",
    "            if l[i] == l[j]:\n",
    "                c += 1\n",
    "        print(f\"{l[i]}:{c}\")\n",
    "feq()"
   ]
  },
  {
   "cell_type": "markdown",
   "id": "4487be1f",
   "metadata": {},
   "source": [
    "# Question 3:\n",
    "\n",
    "Define a class Person and its two child classes: Male and Female. All classes have a\n",
    "method &quot;getGender&quot; which can print &quot;Male&quot; for Male class and &quot;Female&quot; for Female\n",
    "class."
   ]
  },
  {
   "cell_type": "code",
   "execution_count": 7,
   "id": "c9757fea",
   "metadata": {},
   "outputs": [
    {
     "name": "stdout",
     "output_type": "stream",
     "text": [
      "Male\n",
      "Female\n"
     ]
    }
   ],
   "source": [
    "class Person():\n",
    "    def getGender():\n",
    "        pass\n",
    "    \n",
    "class Male(Person):\n",
    "    def getGender():\n",
    "        print(\"Male\")\n",
    "        \n",
    "class Female(Person):\n",
    "    def getGender():\n",
    "        print(\"Female\")\n",
    "\n",
    "Male.getGender()\n",
    "Female.getGender()"
   ]
  },
  {
   "cell_type": "markdown",
   "id": "d06918b6",
   "metadata": {},
   "source": [
    "# Question 4:\n",
    "Please write a program to generate all sentences where subject is in [&quot;I&quot;, &quot;You&quot;] and\n",
    "verb is in [&quot;Play&quot;, &quot;Love&quot;] and the object is in [&quot;Hockey&quot;,&quot;Football&quot;]."
   ]
  },
  {
   "cell_type": "code",
   "execution_count": 10,
   "id": "5abceb9f",
   "metadata": {},
   "outputs": [
    {
     "name": "stdout",
     "output_type": "stream",
     "text": [
      "['I Play Hockey', 'You Play Hockey', 'I Love Hockey', 'You Love Hockey', 'I Play Football', 'You Play Football', 'I Love Football', 'You Love Football']\n"
     ]
    }
   ],
   "source": [
    "s = [\"I\",\"You\"]\n",
    "v = [\"Play\",\"Love\"]\n",
    "o = [\"Hockey\",\"Football\"]\n",
    "\n",
    "sentence = [i+\" \"+j+\" \"+k for k in o for j in v for i in s]\n",
    "\n",
    "print(sentence)"
   ]
  },
  {
   "cell_type": "markdown",
   "id": "76bab77f",
   "metadata": {},
   "source": [
    "# Question 5:\n",
    "Please write a program to compress and decompress the string &quot;hello world!hello\n",
    "world!hello world!hello world!&quot;."
   ]
  },
  {
   "cell_type": "code",
   "execution_count": 17,
   "id": "d7a3bfbd",
   "metadata": {},
   "outputs": [
    {
     "name": "stdout",
     "output_type": "stream",
     "text": [
      "\n",
      "size of original text 81\n",
      "\n",
      "size of compressed text 56\n",
      "\n",
      "size of decompressed text 81\n",
      "\n",
      "Difference of size=  25\n"
     ]
    }
   ],
   "source": [
    "import sys\n",
    "import zlib\n",
    "\n",
    "\n",
    "text=b\"\"\"hello world!hello world!hello world!hello world!\"\"\"\n",
    "\n",
    "# Checking size of text\n",
    "text_size=sys.getsizeof(text)\n",
    "print(\"\\nsize of original text\",text_size)\n",
    "\n",
    "# Compressing text\n",
    "compressed = zlib.compress(text)\n",
    "\n",
    "# Checking size of text after compression\n",
    "csize=sys.getsizeof(compressed)\n",
    "print(\"\\nsize of compressed text\",csize)\n",
    "\n",
    "# Decompressing text\n",
    "decompressed=zlib.decompress(compressed)\n",
    "\n",
    "#Checking size of text after decompression\n",
    "dsize=sys.getsizeof(decompressed)\n",
    "print(\"\\nsize of decompressed text\",dsize)\n",
    "\n",
    "print(\"\\nDifference of size= \", text_size-csize)"
   ]
  },
  {
   "cell_type": "markdown",
   "id": "4c322646",
   "metadata": {},
   "source": [
    "# Question 6:\n",
    "Please write a binary search function which searches an item in a sorted list. The\n",
    "function should return the index of element to be searched in the list."
   ]
  },
  {
   "cell_type": "code",
   "execution_count": 33,
   "id": "2187abdb",
   "metadata": {},
   "outputs": [
    {
     "name": "stdout",
     "output_type": "stream",
     "text": [
      "Index of element: 2\n"
     ]
    }
   ],
   "source": [
    "def binary(arr,ele,l,h):\n",
    "    \n",
    "    if l <= h:\n",
    "        mid = (l+h)//2\n",
    "        \n",
    "        if ele == arr[mid]:\n",
    "            return mid\n",
    "        \n",
    "        elif ele < arr[mid]:\n",
    "            return binary(arr,ele,l,mid-1)\n",
    "        \n",
    "        else:\n",
    "            return binary(arr,ele,mid+1,h)\n",
    "    else:\n",
    "        return -1\n",
    "    \n",
    "arr = [12,34,67,87,99]\n",
    "ele = 67\n",
    "print(\"Index of element:\",binary(arr,ele,0,len(arr)))"
   ]
  }
 ],
 "metadata": {
  "kernelspec": {
   "display_name": "Python 3 (ipykernel)",
   "language": "python",
   "name": "python3"
  },
  "language_info": {
   "codemirror_mode": {
    "name": "ipython",
    "version": 3
   },
   "file_extension": ".py",
   "mimetype": "text/x-python",
   "name": "python",
   "nbconvert_exporter": "python",
   "pygments_lexer": "ipython3",
   "version": "3.9.12"
  }
 },
 "nbformat": 4,
 "nbformat_minor": 5
}
