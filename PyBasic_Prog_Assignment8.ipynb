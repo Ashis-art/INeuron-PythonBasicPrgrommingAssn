{
 "cells": [
  {
   "cell_type": "code",
   "execution_count": 3,
   "id": "83a095ec",
   "metadata": {},
   "outputs": [
    {
     "name": "stdout",
     "output_type": "stream",
     "text": [
      "[[1, 2, 3], [4, 5, 3]] + [[2, 3, 1], [3, 4, 6]] = [[3, 5, 4], [7, 9, 9]]\n"
     ]
    }
   ],
   "source": [
    "#Q1. Write a Python Program to Add Two Matrices?\n",
    "def matAdd(a,b):\n",
    "    res = [[a[i][j] + b[i][j] for j in range(len(a[0]))] for i in range(len(a))]\n",
    "    return res\n",
    "\n",
    "a = [[1,2,3],[4,5,3]]\n",
    "b = [[2,3,1],[3,4,6]]\n",
    "print(f\"{a} + {b} = {matAdd(a,b)}\")"
   ]
  },
  {
   "cell_type": "code",
   "execution_count": 9,
   "id": "60e99395",
   "metadata": {},
   "outputs": [
    {
     "name": "stdout",
     "output_type": "stream",
     "text": [
      "[[114, 160, 60, 27], [74, 97, 73, 14], [119, 157, 112, 23]]\n"
     ]
    }
   ],
   "source": [
    "#Q2. Write a Python Program to Multiply Two Matrices?\n",
    "a = [[12, 7, 3],\n",
    "    [4, 5, 6],\n",
    "    [7, 8, 9]]\n",
    "   \n",
    "b = [[5, 8, 1, 2],\n",
    "    [6, 7, 3, 0],\n",
    "    [4, 5, 9, 1]]\n",
    "res = [[0,0,0,0],[0,0,0,0],[0,0,0,0]]\n",
    "\n",
    "for i in range(len(a)):\n",
    "    for j in range(len(b[0])):\n",
    "        for k in range(len(b)):\n",
    "                    res[i][j] += a[i][k] * b[k][j]\n",
    "\n",
    "print(res)"
   ]
  },
  {
   "cell_type": "code",
   "execution_count": 3,
   "id": "59fc7b7a",
   "metadata": {},
   "outputs": [
    {
     "name": "stdout",
     "output_type": "stream",
     "text": [
      "transpose of a: [[12, 4, 7], [7, 5, 8], [3, 6, 9]]\n"
     ]
    }
   ],
   "source": [
    "#Q3. Write a Python Program to Transpose a Matrix?\n",
    "a = [[12, 7, 3],\n",
    "    [4, 5, 6],\n",
    "    [7, 8, 9]]\n",
    "\n",
    "b = [[a[j][i] for j in range(len(a))]for i in range(len(a[0]))]\n",
    "\n",
    "print(\"transpose of a:\",b)"
   ]
  },
  {
   "cell_type": "code",
   "execution_count": 1,
   "id": "7fe8c896",
   "metadata": {},
   "outputs": [
    {
     "data": {
      "text/plain": [
       "'assignment ineuron is my this'"
      ]
     },
     "execution_count": 1,
     "metadata": {},
     "output_type": "execute_result"
    }
   ],
   "source": [
    "#Q4. Write a Python Program to Sort Words in Alphabetic Order?\n",
    "def sortAlpha(w):\n",
    "    s = w.split(\" \")\n",
    "    for i in range(len(s)):\n",
    "        s[i] = s[i].lower()\n",
    "    s.sort()\n",
    "    return ' '.join(s)\n",
    "\n",
    "w = \"This is my iNeuron ASSIGNMENT\"\n",
    "sortAlpha(w)"
   ]
  },
  {
   "cell_type": "code",
   "execution_count": 3,
   "id": "8663134b",
   "metadata": {},
   "outputs": [
    {
     "data": {
      "text/plain": [
       "'Hi I am Ashis my countrys name is  India'"
      ]
     },
     "execution_count": 3,
     "metadata": {},
     "output_type": "execute_result"
    }
   ],
   "source": [
    "#Q5. Write a Python Program to Remove Punctuation From a String?\n",
    "def remPunc(s):\n",
    "    punc = '''!()-[]{};:'\"\\,<>./?@#$%^&*_~'''\n",
    "    for i in s:\n",
    "        if i in punc:\n",
    "            s = s.replace(i,\"\")\n",
    "    return s\n",
    "\n",
    "s = \"Hi! I am Ashis, my country's name is : 'India'..\"\n",
    "remPunc(s)"
   ]
  }
 ],
 "metadata": {
  "kernelspec": {
   "display_name": "Python 3 (ipykernel)",
   "language": "python",
   "name": "python3"
  },
  "language_info": {
   "codemirror_mode": {
    "name": "ipython",
    "version": 3
   },
   "file_extension": ".py",
   "mimetype": "text/x-python",
   "name": "python",
   "nbconvert_exporter": "python",
   "pygments_lexer": "ipython3",
   "version": "3.9.12"
  }
 },
 "nbformat": 4,
 "nbformat_minor": 5
}
