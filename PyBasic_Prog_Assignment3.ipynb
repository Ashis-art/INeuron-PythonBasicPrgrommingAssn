{
 "cells": [
  {
   "cell_type": "code",
   "execution_count": 9,
   "id": "a44edf66",
   "metadata": {},
   "outputs": [
    {
     "name": "stdout",
     "output_type": "stream",
     "text": [
      "564654 is positive\n",
      "-1234 is negetive\n",
      "0 is zero\n"
     ]
    }
   ],
   "source": [
    "#Q1. Write a Python Program to Check if a Number is Positive, Negative or Zero?\n",
    "def checkNum(num):\n",
    "    if num == 0:\n",
    "        print(f\"{num} is zero\")\n",
    "    elif num>0:\n",
    "        print(f\"{num} is positive\")\n",
    "    else:\n",
    "        print(f\"{num} is negetive\")\n",
    "checkNum(564654)\n",
    "checkNum(-1234)\n",
    "checkNum(0)"
   ]
  },
  {
   "cell_type": "code",
   "execution_count": 8,
   "id": "46a3f392",
   "metadata": {},
   "outputs": [
    {
     "name": "stdout",
     "output_type": "stream",
     "text": [
      "Even\n",
      "Odd\n"
     ]
    }
   ],
   "source": [
    "#Q2. Write a Python Program to Check if a Number is Odd or Even?\n",
    "def oddEv(num):\n",
    "    if num%2 == 0:\n",
    "        print(\"Even\")\n",
    "    else:\n",
    "        print(\"Odd\")\n",
    "oddEv(124)\n",
    "oddEv(121)"
   ]
  },
  {
   "cell_type": "code",
   "execution_count": 11,
   "id": "87620ad7",
   "metadata": {},
   "outputs": [
    {
     "name": "stdout",
     "output_type": "stream",
     "text": [
      "2012  is a leap year\n",
      "2000  is a leap year\n",
      "2021  is not a leap year\n"
     ]
    }
   ],
   "source": [
    "#Q3. Write a Python Program to Check Leap Year?\n",
    "def leap(y):\n",
    "    if(y%400==0 and y%100==0):\n",
    "        print(y,\" is a leap year\")\n",
    "    elif(y%4 == 0 and y%100 != 0):\n",
    "        print(y,\" is a leap year\")\n",
    "    else:\n",
    "        print(y,\" is not a leap year\")\n",
    "\n",
    "leap(2012)\n",
    "leap(2000)\n",
    "leap(2021)"
   ]
  },
  {
   "cell_type": "code",
   "execution_count": 9,
   "id": "188e7ed8",
   "metadata": {},
   "outputs": [],
   "source": [
    "#Q4. Write a Python Program to Check Prime Number?\n",
    "from math import sqrt\n",
    "def isPrime(n):\n",
    "    flag = 0\n",
    "    if n > 1:\n",
    "        for i in range(2,int(sqrt(n))+1):\n",
    "            if(n%i == 0):\n",
    "                    flag = 1\n",
    "                    break\n",
    "        if(flag == 0):\n",
    "            print(\"prime!\")\n",
    "        else:\n",
    "            print(\"non prime!\")\n",
    "    else:\n",
    "        print(\"non prime!\")"
   ]
  },
  {
   "cell_type": "code",
   "execution_count": 10,
   "id": "a80577f8",
   "metadata": {},
   "outputs": [
    {
     "name": "stdout",
     "output_type": "stream",
     "text": [
      "non prime!\n"
     ]
    }
   ],
   "source": [
    "isPrime(8)"
   ]
  },
  {
   "cell_type": "code",
   "execution_count": 11,
   "id": "a752ea17",
   "metadata": {},
   "outputs": [
    {
     "name": "stdout",
     "output_type": "stream",
     "text": [
      "prime!\n"
     ]
    }
   ],
   "source": [
    "isPrime(7)"
   ]
  },
  {
   "cell_type": "code",
   "execution_count": 21,
   "id": "cc7924eb",
   "metadata": {},
   "outputs": [],
   "source": [
    "#Q5. Write a Python Program to Print all Prime Numbers in an Interval of 1-10000?\n",
    "def primeRange():\n",
    "    c = 0\n",
    "    for n in range(1,10000):\n",
    "        flag = 0\n",
    "        if n > 1:\n",
    "            for i in range(2,int(sqrt(n))+1):\n",
    "                if(n%i == 0):\n",
    "                    flag = 1\n",
    "                    break\n",
    "            if flag == 0:\n",
    "                print(n)\n",
    "                c+=1\n",
    "    print(\"Total:\",c)"
   ]
  }
 ],
 "metadata": {
  "kernelspec": {
   "display_name": "Python 3 (ipykernel)",
   "language": "python",
   "name": "python3"
  },
  "language_info": {
   "codemirror_mode": {
    "name": "ipython",
    "version": 3
   },
   "file_extension": ".py",
   "mimetype": "text/x-python",
   "name": "python",
   "nbconvert_exporter": "python",
   "pygments_lexer": "ipython3",
   "version": "3.9.12"
  }
 },
 "nbformat": 4,
 "nbformat_minor": 5
}
