{
 "cells": [
  {
   "cell_type": "code",
   "execution_count": 2,
   "id": "38bf1229",
   "metadata": {},
   "outputs": [
    {
     "name": "stdout",
     "output_type": "stream",
     "text": [
      "Hello Python\n"
     ]
    }
   ],
   "source": [
    "#Q1. Write a Python program to print 'Hello Python'?\n",
    "def hello():\n",
    "    print('Hello Python')\n",
    "hello()"
   ]
  },
  {
   "cell_type": "code",
   "execution_count": 4,
   "id": "456017f9",
   "metadata": {},
   "outputs": [
    {
     "name": "stdout",
     "output_type": "stream",
     "text": [
      "a+b: 16 \n",
      "a/b: 3.0\n"
     ]
    }
   ],
   "source": [
    "#Q2. Write a Python program to do arithmetical operations addition and division.?\n",
    "def add_div(a,b):\n",
    "    print(f'a+b: {a+b} \\na/b: {a/b}')\n",
    "\n",
    "add_div(12,4)"
   ]
  },
  {
   "cell_type": "code",
   "execution_count": 5,
   "id": "e3ec40d1",
   "metadata": {},
   "outputs": [
    {
     "name": "stdout",
     "output_type": "stream",
     "text": [
      "area of triangle:  9.921567416492215\n"
     ]
    }
   ],
   "source": [
    "#Q3. Write a Python program to find the area of a triangle?\n",
    "def area_triangle(a,b,c):\n",
    "    s = (a+b+c)/2\n",
    "    area = (s*(s-a)*(s-b)*(s-c)) ** 0.5\n",
    "    print(\"area of triangle: \",area)\n",
    "area_triangle(4,5,6)"
   ]
  },
  {
   "cell_type": "code",
   "execution_count": 8,
   "id": "69404687",
   "metadata": {},
   "outputs": [
    {
     "name": "stdout",
     "output_type": "stream",
     "text": [
      "Before swap a:5 b:10\n",
      "After swap a:10 b:5\n"
     ]
    }
   ],
   "source": [
    "#Q4. Write a Python program to swap two variables?\n",
    "def swap(a,b):\n",
    "    print(f\"Before swap a:{a} b:{b}\")\n",
    "    a,b = b,a\n",
    "    print(f\"After swap a:{a} b:{b}\")\n",
    "swap(5,10)"
   ]
  },
  {
   "cell_type": "code",
   "execution_count": 11,
   "id": "067bb38b",
   "metadata": {},
   "outputs": [
    {
     "name": "stdout",
     "output_type": "stream",
     "text": [
      "0.428738524221252\n"
     ]
    }
   ],
   "source": [
    "#Q5. Write a Python program to generate a random number?\n",
    "import random\n",
    "num = random.random()\n",
    "print(num)"
   ]
  }
 ],
 "metadata": {
  "kernelspec": {
   "display_name": "Python 3 (ipykernel)",
   "language": "python",
   "name": "python3"
  },
  "language_info": {
   "codemirror_mode": {
    "name": "ipython",
    "version": 3
   },
   "file_extension": ".py",
   "mimetype": "text/x-python",
   "name": "python",
   "nbconvert_exporter": "python",
   "pygments_lexer": "ipython3",
   "version": "3.9.12"
  }
 },
 "nbformat": 4,
 "nbformat_minor": 5
}
