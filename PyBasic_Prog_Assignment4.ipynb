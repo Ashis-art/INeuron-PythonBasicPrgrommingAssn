{
 "cells": [
  {
   "cell_type": "code",
   "execution_count": 1,
   "id": "ee4ae55e",
   "metadata": {},
   "outputs": [],
   "source": [
    "#Q1. Write a Python Program to Find the Factorial of a Number?\n",
    "def fact(n):\n",
    "    factorial = 1\n",
    "    if n == 1 or n == 0:\n",
    "        print(factorial)\n",
    "    else:\n",
    "        for i in range(1,n+1):\n",
    "            factorial *= i\n",
    "    print(f\"Factorial of {n} is {factorial}\")"
   ]
  },
  {
   "cell_type": "code",
   "execution_count": 3,
   "id": "eae74276",
   "metadata": {},
   "outputs": [
    {
     "name": "stdout",
     "output_type": "stream",
     "text": [
      "Factorial of 10 is 3628800\n"
     ]
    }
   ],
   "source": [
    "fact(10)"
   ]
  },
  {
   "cell_type": "code",
   "execution_count": 6,
   "id": "e9d0d30b",
   "metadata": {},
   "outputs": [],
   "source": [
    "#Q2. Write a Python Program to Display the multiplication Table?\n",
    "def mulTable(n):\n",
    "    for i in range(1,10):\n",
    "        print(f\"{n} * {i} = {n*i}\")"
   ]
  },
  {
   "cell_type": "code",
   "execution_count": 7,
   "id": "0f3913c7",
   "metadata": {},
   "outputs": [
    {
     "name": "stdout",
     "output_type": "stream",
     "text": [
      "8 * 1 = 8\n",
      "8 * 2 = 16\n",
      "8 * 3 = 24\n",
      "8 * 4 = 32\n",
      "8 * 5 = 40\n",
      "8 * 6 = 48\n",
      "8 * 7 = 56\n",
      "8 * 8 = 64\n",
      "8 * 9 = 72\n"
     ]
    }
   ],
   "source": [
    "mulTable(8)"
   ]
  },
  {
   "cell_type": "code",
   "execution_count": 18,
   "id": "45eb55ae",
   "metadata": {},
   "outputs": [],
   "source": [
    "#Q3. Write a Python Program to Print the Fibonacci sequence?\n",
    "def fibo(n):\n",
    "    n1=0\n",
    "    n2=1\n",
    "    c=0\n",
    "    \n",
    "    if n <= 0:\n",
    "        print(\"Enter valid number!!\")\n",
    "    elif n == 1:\n",
    "        print(n1)\n",
    "    else:\n",
    "        while c < n:\n",
    "            print(n1)\n",
    "            temp = n1+n2\n",
    "            n1 = n2\n",
    "            n2 = temp\n",
    "            c+=1"
   ]
  },
  {
   "cell_type": "code",
   "execution_count": 19,
   "id": "4dcbdf23",
   "metadata": {},
   "outputs": [
    {
     "name": "stdout",
     "output_type": "stream",
     "text": [
      "0\n",
      "1\n",
      "1\n",
      "2\n",
      "3\n"
     ]
    }
   ],
   "source": [
    "fibo(5)"
   ]
  },
  {
   "cell_type": "code",
   "execution_count": 29,
   "id": "07a08736",
   "metadata": {},
   "outputs": [],
   "source": [
    "#Q4. Write a Python Program to Check Armstrong Number?\n",
    "def amstrong(n):\n",
    "    num = n\n",
    "    sum = 0\n",
    "    while(num>0):\n",
    "        d = num%10\n",
    "        sum += d ** 3\n",
    "        num = num//10\n",
    "    if n == sum:\n",
    "        print(f\"{n} is an Armstrong number\")\n",
    "    else:\n",
    "        print(f\"{n} is not an Armstrong number\")"
   ]
  },
  {
   "cell_type": "code",
   "execution_count": 30,
   "id": "1d6835eb",
   "metadata": {},
   "outputs": [
    {
     "name": "stdout",
     "output_type": "stream",
     "text": [
      "153 is an Armstrong number\n"
     ]
    }
   ],
   "source": [
    "amstrong(153)"
   ]
  },
  {
   "cell_type": "code",
   "execution_count": 31,
   "id": "406fac2b",
   "metadata": {},
   "outputs": [
    {
     "name": "stdout",
     "output_type": "stream",
     "text": [
      "154 is not an Armstrong number\n"
     ]
    }
   ],
   "source": [
    "amstrong(154)"
   ]
  },
  {
   "cell_type": "code",
   "execution_count": 32,
   "id": "0b198ae9",
   "metadata": {},
   "outputs": [],
   "source": [
    "#Q5. Write a Python Program to Find Armstrong Number in an Interval?\n",
    "def amsinterval(a,b): #a will be starting number and b will be end\n",
    "    for i in range(a,b):\n",
    "        n = i\n",
    "        sum = 0\n",
    "        while n > 0:\n",
    "            d = n%10\n",
    "            sum += d ** 3\n",
    "            n = n // 10\n",
    "        if(i == sum):\n",
    "            print(i)"
   ]
  },
  {
   "cell_type": "code",
   "execution_count": 33,
   "id": "7a24e7c6",
   "metadata": {},
   "outputs": [
    {
     "name": "stdout",
     "output_type": "stream",
     "text": [
      "1\n",
      "153\n",
      "370\n",
      "371\n",
      "407\n"
     ]
    }
   ],
   "source": [
    "amsinterval(1,500)"
   ]
  },
  {
   "cell_type": "code",
   "execution_count": 39,
   "id": "0825165c",
   "metadata": {},
   "outputs": [],
   "source": [
    "#Q6. Write a Python Program to Find the Sum of Natural Numbers?\n",
    "def sumn(n):\n",
    "    sum = 0\n",
    "    for i in range(1,n):\n",
    "        sum += i\n",
    "    print(f'sum of {n} natural number : {sum}')"
   ]
  },
  {
   "cell_type": "code",
   "execution_count": 40,
   "id": "67fff5e2",
   "metadata": {},
   "outputs": [
    {
     "name": "stdout",
     "output_type": "stream",
     "text": [
      "sum of 10 natural number : 45\n"
     ]
    }
   ],
   "source": [
    "sumn(10)"
   ]
  }
 ],
 "metadata": {
  "kernelspec": {
   "display_name": "Python 3 (ipykernel)",
   "language": "python",
   "name": "python3"
  },
  "language_info": {
   "codemirror_mode": {
    "name": "ipython",
    "version": 3
   },
   "file_extension": ".py",
   "mimetype": "text/x-python",
   "name": "python",
   "nbconvert_exporter": "python",
   "pygments_lexer": "ipython3",
   "version": "3.9.12"
  }
 },
 "nbformat": 4,
 "nbformat_minor": 5
}
