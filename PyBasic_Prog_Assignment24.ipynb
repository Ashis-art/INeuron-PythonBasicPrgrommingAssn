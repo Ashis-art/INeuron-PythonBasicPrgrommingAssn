{
 "cells": [
  {
   "cell_type": "markdown",
   "id": "0e50b9be",
   "metadata": {},
   "source": [
    "# Question1\n",
    "Create a function that takes an integer and returns a list from 1 to the given number, where:\n",
    "1. If the number can be divided evenly by 4, amplify it by 10 (i.e. return 10 times the\n",
    "number).\n",
    "2. If the number cannot be divided evenly by 4, simply return the number.\n",
    "Examples\n",
    "amplify(4) ➞ [1, 2, 3, 40]\n",
    "amplify(3) ➞ [1, 2, 3]\n",
    "amplify(25) ➞ [1, 2, 3, 40, 5, 6, 7, 80, 9, 10, 11, 120, 13, 14, 15, 160,\n",
    "17, 18, 19, 200, 21, 22, 23, 240, 25]"
   ]
  },
  {
   "cell_type": "code",
   "execution_count": 3,
   "id": "b99a1d8b",
   "metadata": {},
   "outputs": [],
   "source": [
    "def amplify(n):\n",
    "    l = [i*10 if i%4 == 0 else i for i in range(1,n+1)]\n",
    "    print(l)"
   ]
  },
  {
   "cell_type": "code",
   "execution_count": 4,
   "id": "d0c0eaf2",
   "metadata": {},
   "outputs": [
    {
     "name": "stdout",
     "output_type": "stream",
     "text": [
      "25\n",
      "[1, 2, 3, 40, 5, 6, 7, 80, 9, 10, 11, 120, 13, 14, 15, 160, 17, 18, 19, 200, 21, 22, 23, 240, 25]\n"
     ]
    }
   ],
   "source": [
    "n = int(input())\n",
    "amplify(n)"
   ]
  },
  {
   "cell_type": "markdown",
   "id": "b5ecd325",
   "metadata": {},
   "source": [
    "# Question2\n",
    "Create a function that takes a list of numbers and return the number that&#39;s unique.\n",
    "Examples\n",
    "unique([3, 3, 3, 7, 3, 3]) ➞ 7\n",
    "unique([0, 0, 0.77, 0, 0]) ➞ 0.77\n",
    "unique([0, 1, 1, 1, 1, 1, 1, 1]) ➞ 0\n",
    "Notes\n",
    "Test cases will always have exactly one unique number while all others are the same. "
   ]
  },
  {
   "cell_type": "code",
   "execution_count": 16,
   "id": "4b77624c",
   "metadata": {},
   "outputs": [
    {
     "data": {
      "text/plain": [
       "0"
      ]
     },
     "execution_count": 16,
     "metadata": {},
     "output_type": "execute_result"
    }
   ],
   "source": [
    "def unique(l):\n",
    "    s = list(set(l))\n",
    "    for i in s:\n",
    "        if l.count(i) == 1:\n",
    "            return i\n",
    "l = [0, 1, 1, 1, 1, 1, 1, 1]\n",
    "unique(l)"
   ]
  },
  {
   "cell_type": "markdown",
   "id": "b1fdd09b",
   "metadata": {},
   "source": [
    "# Question3\n",
    "Your task is to create a Circle constructor that creates a circle with a radius provided by an\n",
    "argument. The circles constructed must have two getters getArea() (PIr^2) and\n",
    "getPerimeter() (2PI*r) which give both respective areas and perimeter (circumference).\n",
    "\n",
    "For help with this class, I have provided you with a Rectangle constructor which you can use\n",
    "as a base example."
   ]
  },
  {
   "cell_type": "code",
   "execution_count": 23,
   "id": "b3508a23",
   "metadata": {},
   "outputs": [
    {
     "name": "stdout",
     "output_type": "stream",
     "text": [
      "380.13\n",
      "27.9\n"
     ]
    }
   ],
   "source": [
    "import math\n",
    "class Circle:\n",
    "    def __init__(self,r):\n",
    "        self.r = r\n",
    "    def getArea(self):\n",
    "        return round(math.pi * pow(self.r,2),2)\n",
    "    def getPerimeter(self):\n",
    "        return round(2*math.pi*self.r,2)\n",
    "    \n",
    "circy = Circle(11)\n",
    "print(circy.getArea())\n",
    "circy = Circle(4.44)\n",
    "print(circy.getPerimeter())"
   ]
  },
  {
   "cell_type": "markdown",
   "id": "b51cbcc9",
   "metadata": {},
   "source": [
    "# Question4\n",
    "Create a function that takes a list of strings and return a list, sorted from shortest to longest.\n",
    "Examples\n",
    "sort_by_length([&quot;Google&quot;, &quot;Apple&quot;, &quot;Microsoft&quot;])\n",
    "➞ [&quot;Apple&quot;, &quot;Google&quot;, &quot;Microsoft&quot;]\n",
    "sort_by_length([&quot;Leonardo&quot;, &quot;Michelangelo&quot;, &quot;Raphael&quot;, &quot;Donatello&quot;])\n",
    "➞ [&quot;Raphael&quot;, &quot;Leonardo&quot;, &quot;Donatello&quot;, &quot;Michelangelo&quot;]\n",
    "sort_by_length([&quot;Turing&quot;, &quot;Einstein&quot;, &quot;Jung&quot;])\n",
    "➞ [&quot;Jung&quot;, &quot;Turing&quot;, &quot;Einstein&quot;]\n",
    "Notes\n",
    "All test cases contain lists with strings of different lengths, so you won&#39;t have to deal with\n",
    "multiple strings of the same length."
   ]
  },
  {
   "cell_type": "code",
   "execution_count": 24,
   "id": "83835038",
   "metadata": {},
   "outputs": [
    {
     "data": {
      "text/plain": [
       "['Einstein', 'Jung', 'Turing']"
      ]
     },
     "execution_count": 24,
     "metadata": {},
     "output_type": "execute_result"
    }
   ],
   "source": [
    "def sort_by_length(l):\n",
    "    return sorted(l)\n",
    "\n",
    "l = [\"Turing\", \"Einstein\", \"Jung\"]\n",
    "sort_by_length(l)"
   ]
  },
  {
   "cell_type": "markdown",
   "id": "df5298d5",
   "metadata": {},
   "source": [
    "# Question5\n",
    "Create a function that validates whether three given integers form a Pythagorean triplet. The\n",
    "sum of the squares of the two smallest integers must equal the square of the largest number to\n",
    "be validated.\n",
    "\n",
    "Examples\n",
    "is_triplet(3, 4, 5) ➞ True\n",
    "# 3² + 4² = 25\n",
    "# 5² = 25\n",
    "is_triplet(13, 5, 12) ➞ True\n",
    "# 5² + 12² = 169\n",
    "# 13² = 169\n",
    "is_triplet(1, 2, 3) ➞ False\n",
    "# 1² + 2² = 5\n",
    "# 3² = 9\n",
    "Notes\n",
    "Numbers may not be given in a sorted order."
   ]
  },
  {
   "cell_type": "code",
   "execution_count": 26,
   "id": "e83bb9bd",
   "metadata": {},
   "outputs": [
    {
     "name": "stdout",
     "output_type": "stream",
     "text": [
      "a: 1\n",
      "b: 2\n",
      "c: 3\n"
     ]
    },
    {
     "data": {
      "text/plain": [
       "False"
      ]
     },
     "execution_count": 26,
     "metadata": {},
     "output_type": "execute_result"
    }
   ],
   "source": [
    "def is_triplet(a,b,c):\n",
    "    return ((a*a+b*b==c*c) or (a*a+c*c==b*b) or ((c*c+b*b==a*a)))\n",
    "\n",
    "a = int(input(\"a: \"))\n",
    "b = int(input(\"b: \"))\n",
    "c = int(input(\"c: \"))\n",
    "\n",
    "is_triplet(a,b,c)"
   ]
  }
 ],
 "metadata": {
  "kernelspec": {
   "display_name": "Python 3 (ipykernel)",
   "language": "python",
   "name": "python3"
  },
  "language_info": {
   "codemirror_mode": {
    "name": "ipython",
    "version": 3
   },
   "file_extension": ".py",
   "mimetype": "text/x-python",
   "name": "python",
   "nbconvert_exporter": "python",
   "pygments_lexer": "ipython3",
   "version": "3.9.12"
  }
 },
 "nbformat": 4,
 "nbformat_minor": 5
}
