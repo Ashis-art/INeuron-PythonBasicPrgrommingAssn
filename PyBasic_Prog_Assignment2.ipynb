{
 "cells": [
  {
   "cell_type": "code",
   "execution_count": 2,
   "id": "1c930178",
   "metadata": {},
   "outputs": [
    {
     "name": "stdout",
     "output_type": "stream",
     "text": [
      "5km in miles: 3.106855\n"
     ]
    }
   ],
   "source": [
    "#Q1. Write a Python program to convert kilometers to miles?\n",
    "def kmtomile(km):\n",
    "    print(f\"{km}km in miles: {km*0.621371 }\")\n",
    "kmtomile(5)"
   ]
  },
  {
   "cell_type": "code",
   "execution_count": 4,
   "id": "2333e802",
   "metadata": {},
   "outputs": [
    {
     "name": "stdout",
     "output_type": "stream",
     "text": [
      "25C in F: 77.0\n"
     ]
    }
   ],
   "source": [
    "#Q2. Write a Python program to convert Celsius to Fahrenheit?\n",
    "def CtoF(c):\n",
    "    print(f\"{c}C in F: {(c*1.8)+32}\")\n",
    "CtoF(25)"
   ]
  },
  {
   "cell_type": "code",
   "execution_count": 6,
   "id": "6c14a34a",
   "metadata": {},
   "outputs": [
    {
     "name": "stdout",
     "output_type": "stream",
     "text": [
      "                                  2022\n",
      "\n",
      "      January                   February                   March\n",
      "Mo Tu We Th Fr Sa Su      Mo Tu We Th Fr Sa Su      Mo Tu We Th Fr Sa Su\n",
      "                1  2          1  2  3  4  5  6          1  2  3  4  5  6\n",
      " 3  4  5  6  7  8  9       7  8  9 10 11 12 13       7  8  9 10 11 12 13\n",
      "10 11 12 13 14 15 16      14 15 16 17 18 19 20      14 15 16 17 18 19 20\n",
      "17 18 19 20 21 22 23      21 22 23 24 25 26 27      21 22 23 24 25 26 27\n",
      "24 25 26 27 28 29 30      28                        28 29 30 31\n",
      "31\n",
      "\n",
      "       April                      May                       June\n",
      "Mo Tu We Th Fr Sa Su      Mo Tu We Th Fr Sa Su      Mo Tu We Th Fr Sa Su\n",
      "             1  2  3                         1             1  2  3  4  5\n",
      " 4  5  6  7  8  9 10       2  3  4  5  6  7  8       6  7  8  9 10 11 12\n",
      "11 12 13 14 15 16 17       9 10 11 12 13 14 15      13 14 15 16 17 18 19\n",
      "18 19 20 21 22 23 24      16 17 18 19 20 21 22      20 21 22 23 24 25 26\n",
      "25 26 27 28 29 30         23 24 25 26 27 28 29      27 28 29 30\n",
      "                          30 31\n",
      "\n",
      "        July                     August                  September\n",
      "Mo Tu We Th Fr Sa Su      Mo Tu We Th Fr Sa Su      Mo Tu We Th Fr Sa Su\n",
      "             1  2  3       1  2  3  4  5  6  7                1  2  3  4\n",
      " 4  5  6  7  8  9 10       8  9 10 11 12 13 14       5  6  7  8  9 10 11\n",
      "11 12 13 14 15 16 17      15 16 17 18 19 20 21      12 13 14 15 16 17 18\n",
      "18 19 20 21 22 23 24      22 23 24 25 26 27 28      19 20 21 22 23 24 25\n",
      "25 26 27 28 29 30 31      29 30 31                  26 27 28 29 30\n",
      "\n",
      "      October                   November                  December\n",
      "Mo Tu We Th Fr Sa Su      Mo Tu We Th Fr Sa Su      Mo Tu We Th Fr Sa Su\n",
      "                1  2          1  2  3  4  5  6                1  2  3  4\n",
      " 3  4  5  6  7  8  9       7  8  9 10 11 12 13       5  6  7  8  9 10 11\n",
      "10 11 12 13 14 15 16      14 15 16 17 18 19 20      12 13 14 15 16 17 18\n",
      "17 18 19 20 21 22 23      21 22 23 24 25 26 27      19 20 21 22 23 24 25\n",
      "24 25 26 27 28 29 30      28 29 30                  26 27 28 29 30 31\n",
      "31\n",
      "\n"
     ]
    }
   ],
   "source": [
    "#Q3. Write a Python program to display calendar?\n",
    "import calendar\n",
    " \n",
    "yy = 2022\n",
    " \n",
    "# display the calendar\n",
    "print(calendar.calendar(yy))"
   ]
  },
  {
   "cell_type": "code",
   "execution_count": 15,
   "id": "71f85d02",
   "metadata": {},
   "outputs": [],
   "source": [
    "#Q4. Write a Python program to solve quadratic equation?\n",
    "import math\n",
    "\n",
    "def quadeqtn(a,b,c):\n",
    "    \n",
    "    d = math.pow(b,2) - 4*a*c\n",
    "    sqrt_d = math.sqrt(abs(d))\n",
    "    if a == 0:\n",
    "        print(\"Invalid equation\")\n",
    "    else:\n",
    "        if d > 0: \n",
    "            print(\" real and different roots \") \n",
    "            print((-b + sqrt_d)/(2 * a)) \n",
    "            print((-b - sqrt_d)/(2 * a)) \n",
    "        elif d == 0: \n",
    "            print(\" real and same roots\") \n",
    "            print(-b / (2 * a)) \n",
    "        else:\n",
    "            print(\"Complex Roots\") \n",
    "            print(- b / (2 * a), \" + i\", sqrt_d) \n",
    "            print(- b / (2 * a), \" - i\", sqrt_d)"
   ]
  },
  {
   "cell_type": "code",
   "execution_count": 16,
   "id": "070919b5",
   "metadata": {},
   "outputs": [
    {
     "name": "stdout",
     "output_type": "stream",
     "text": [
      "Invalid equation\n"
     ]
    }
   ],
   "source": [
    "quadeqtn(0,4,5)"
   ]
  },
  {
   "cell_type": "code",
   "execution_count": 17,
   "id": "b34618d4",
   "metadata": {},
   "outputs": [
    {
     "name": "stdout",
     "output_type": "stream",
     "text": [
      "Complex Roots\n",
      "-0.6666666666666666  + i 6.6332495807108\n",
      "-0.6666666666666666  - i 6.6332495807108\n"
     ]
    }
   ],
   "source": [
    "quadeqtn(3,4,5)"
   ]
  },
  {
   "cell_type": "code",
   "execution_count": 18,
   "id": "f242a3ea",
   "metadata": {},
   "outputs": [],
   "source": [
    "#Q5. Write a Python program to swap two variables without temp variable?\n",
    "def swap2(a,b):\n",
    "    a,b = b,a\n",
    "    #another logic\n",
    "    #a=a+b\n",
    "    #b=a-b\n",
    "    #a=a-b\n",
    "    print(f\"After swap a: {a}, b: {b}\")"
   ]
  },
  {
   "cell_type": "code",
   "execution_count": 20,
   "id": "e1365c55",
   "metadata": {},
   "outputs": [
    {
     "name": "stdout",
     "output_type": "stream",
     "text": [
      "After swap a: 5, b: 4\n"
     ]
    }
   ],
   "source": [
    "swap2(4,5)"
   ]
  }
 ],
 "metadata": {
  "kernelspec": {
   "display_name": "Python 3 (ipykernel)",
   "language": "python",
   "name": "python3"
  },
  "language_info": {
   "codemirror_mode": {
    "name": "ipython",
    "version": 3
   },
   "file_extension": ".py",
   "mimetype": "text/x-python",
   "name": "python",
   "nbconvert_exporter": "python",
   "pygments_lexer": "ipython3",
   "version": "3.9.12"
  }
 },
 "nbformat": 4,
 "nbformat_minor": 5
}
