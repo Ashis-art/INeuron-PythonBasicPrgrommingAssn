{
 "cells": [
  {
   "cell_type": "markdown",
   "id": "5e174aec",
   "metadata": {},
   "source": [
    "# Question1. Write a function that stutters a word as if someone is struggling to read it. The\n",
    "first two letters are repeated twice with an ellipsis ... and space after each, and then the\n",
    "word is pronounced with a question mark ?.\n",
    "Examples\n",
    "stutter(&quot;incredible&quot;) ➞ &quot;in... in... incredible?&quot;\n",
    "stutter(&quot;enthusiastic&quot;) ➞ &quot;en... en... enthusiastic?&quot;\n",
    "stutter(&quot;outstanding&quot;) ➞ &quot;ou... ou... outstanding?&quot;\n",
    "\n",
    "Hint :- Assume all input is in lower case and at least two characters long."
   ]
  },
  {
   "cell_type": "code",
   "execution_count": 8,
   "id": "7435aa68",
   "metadata": {},
   "outputs": [
    {
     "name": "stdout",
     "output_type": "stream",
     "text": [
      "Enter word:outstanding\n"
     ]
    },
    {
     "data": {
      "text/plain": [
       "'shutter(outstanding) -> ou... ou... outstanding?'"
      ]
     },
     "execution_count": 8,
     "metadata": {},
     "output_type": "execute_result"
    }
   ],
   "source": [
    "def stutter(w):\n",
    "    return f\"shutter({w}) -> {w.replace(w[0:2],((w[0:2]+'... ')*2)+ w[0:2])  +'?'}\"\n",
    "w = input(\"Enter word:\")\n",
    "stutter(w)"
   ]
  },
  {
   "cell_type": "markdown",
   "id": "e76fea8e",
   "metadata": {},
   "source": [
    "# Question 2.Create a function that takes an angle in radians and returns the corresponding\n",
    "angle in degrees rounded to one decimal place.\n",
    "Examples\n",
    "radians_to_degrees(1) ➞ 57.3\n",
    "radians_to_degrees(20) ➞ 1145.9\n",
    "radians_to_degrees(50) ➞ 2864.8"
   ]
  },
  {
   "cell_type": "code",
   "execution_count": 11,
   "id": "36426c01",
   "metadata": {},
   "outputs": [
    {
     "name": "stdout",
     "output_type": "stream",
     "text": [
      "Enter angel in radian20\n"
     ]
    },
    {
     "data": {
      "text/plain": [
       "'radius_to_degree(20.0) -> 1145.9'"
      ]
     },
     "execution_count": 11,
     "metadata": {},
     "output_type": "execute_result"
    }
   ],
   "source": [
    "import math\n",
    "def radius_to_degree(a):\n",
    "    return f\"radius_to_degree({a}) -> {(180/math.pi)*a:.1f}\"\n",
    "\n",
    "a = float(input(\"Enter angel in radian\"))\n",
    "radius_to_degree(a)"
   ]
  },
  {
   "cell_type": "markdown",
   "id": "bb35eaf7",
   "metadata": {},
   "source": [
    "# Question 3. In this challenge, establish if a given integer num is a Curzon number. If 1 plus\n",
    "2 elevated to num is exactly divisible by 1 plus 2 multiplied by num, then num is a Curzon\n",
    "number.\n",
    "Given a non-negative integer num, implement a function that returns True if num is a Curzon\n",
    "number, or False otherwise.\n",
    "Examples\n",
    "is_curzon(5) ➞ True\n",
    "# 2 ** 5 + 1 = 33\n",
    "# 2 * 5 + 1 = 11\n",
    "# 33 is a multiple of 11\n",
    "is_curzon(10) ➞ False\n",
    "# 2 ** 10 + 1 = 1025\n",
    "# 2 * 10 + 1 = 21\n",
    "# 1025 is not a multiple of 21\n",
    "is_curzon(14) ➞ True\n",
    "# 2 ** 14 + 1 = 16385\n",
    "# 2 * 14 + 1 = 29\n",
    "# 16385 is a multiple of 29"
   ]
  },
  {
   "cell_type": "code",
   "execution_count": 17,
   "id": "7354774a",
   "metadata": {},
   "outputs": [
    {
     "name": "stdout",
     "output_type": "stream",
     "text": [
      "Enter number14\n",
      "2 ** 14 + 1 = 16385\n",
      "2 * 14 + 1 = 29\n",
      "is_curzon(14) -> True\n"
     ]
    }
   ],
   "source": [
    "def is_curzon(n):\n",
    "    ele = 2 ** n + 1\n",
    "    print(f\"2 ** {n} + 1 = {ele}\")\n",
    "    \n",
    "    mul = 2 * n + 1\n",
    "    print(f\"2 * {n} + 1 = {mul}\")\n",
    "    \n",
    "    return ele % mul == 0\n",
    "    \n",
    "n = int(input(\"Enter number\"))\n",
    "print(f\"is_curzon({n}) -> {is_curzon(n)}\")"
   ]
  },
  {
   "cell_type": "markdown",
   "id": "b45631de",
   "metadata": {},
   "source": [
    "# Question 4.Given the side length x find the area of a hexagon."
   ]
  },
  {
   "cell_type": "code",
   "execution_count": 20,
   "id": "53fbbd9a",
   "metadata": {},
   "outputs": [
    {
     "name": "stdout",
     "output_type": "stream",
     "text": [
      "Emter length: 2\n"
     ]
    },
    {
     "data": {
      "text/plain": [
       "'area_of_hexagon(2.0) -> 8.485281374238571'"
      ]
     },
     "execution_count": 20,
     "metadata": {},
     "output_type": "execute_result"
    }
   ],
   "source": [
    "import math\n",
    "def area_of_hexagon(x):\n",
    "    return f\"area_of_hexagon({x}) -> {((3*math.sqrt(3))/2)*(pow(in_num,2))}\"\n",
    "\n",
    "x = float(input(\"Emter length: \"))\n",
    "area_of_hexagon(x)"
   ]
  },
  {
   "cell_type": "markdown",
   "id": "c176e4ca",
   "metadata": {},
   "source": [
    "# Question 5. Create a function that returns a base-2 (binary) representation of a base-10\n",
    "(decimal) string number. To convert is simple: ((2) means base-2 and (10) means base-10)\n",
    "010101001(2) = 1 + 8 + 32 + 128.\n",
    "Going from right to left, the value of the most right bit is 1, now from that every bit to the left\n",
    "will be x2 the value, value of an 8 bit binary numbers are (256, 128, 64, 32, 16, 8, 4, 2, 1).\n",
    "Examples\n",
    "binary(1) ➞ &quot;1&quot;\n",
    "# 1*1 = 1\n",
    "binary(5) ➞ &quot;101&quot;\n",
    "# 1*1 + 1*4 = 5\n",
    "binary(10) ➞ &quot;1010&quot;\n",
    "# 1*2 + 1*8 = 10"
   ]
  },
  {
   "cell_type": "code",
   "execution_count": 27,
   "id": "f1a65484",
   "metadata": {},
   "outputs": [
    {
     "name": "stdout",
     "output_type": "stream",
     "text": [
      "Enter deciamal number:5\n"
     ]
    },
    {
     "data": {
      "text/plain": [
       "'binary(0) -> 101'"
      ]
     },
     "execution_count": 27,
     "metadata": {},
     "output_type": "execute_result"
    }
   ],
   "source": [
    "def binary(n):\n",
    "    bin = \"\"\n",
    "    while(n>0):\n",
    "        d = (str)(n%2)\n",
    "        bin+=d\n",
    "        n = n//2\n",
    "    return f\"binary({n}) -> {bin[::-1]}\"\n",
    "\n",
    "n = int(input(\"Enter deciamal number:\"))\n",
    "binary(n)"
   ]
  }
 ],
 "metadata": {
  "kernelspec": {
   "display_name": "Python 3 (ipykernel)",
   "language": "python",
   "name": "python3"
  },
  "language_info": {
   "codemirror_mode": {
    "name": "ipython",
    "version": 3
   },
   "file_extension": ".py",
   "mimetype": "text/x-python",
   "name": "python",
   "nbconvert_exporter": "python",
   "pygments_lexer": "ipython3",
   "version": "3.9.12"
  }
 },
 "nbformat": 4,
 "nbformat_minor": 5
}
