{
 "cells": [
  {
   "cell_type": "code",
   "execution_count": 10,
   "id": "904018cd",
   "metadata": {},
   "outputs": [
    {
     "name": "stdout",
     "output_type": "stream",
     "text": [
      "10\n"
     ]
    }
   ],
   "source": [
    "#Q1. Write a Python program to find sum of elements in list?\n",
    "from functools import reduce\n",
    "l = [1,2,3,4]\n",
    "res = reduce((lambda x,y:x+y),l)\n",
    "print(res)"
   ]
  },
  {
   "cell_type": "code",
   "execution_count": 9,
   "id": "00ac21c2",
   "metadata": {},
   "outputs": [
    {
     "name": "stdout",
     "output_type": "stream",
     "text": [
      "24\n"
     ]
    }
   ],
   "source": [
    "#Q2. Write a Python program to Multiply all numbers in the list?\n",
    "from functools import reduce\n",
    "l = [1,2,3,4]\n",
    "res = reduce((lambda x,y:x*y),l)\n",
    "print(res)"
   ]
  },
  {
   "cell_type": "code",
   "execution_count": 12,
   "id": "ca0b4e9a",
   "metadata": {},
   "outputs": [
    {
     "data": {
      "text/plain": [
       "2"
      ]
     },
     "execution_count": 12,
     "metadata": {},
     "output_type": "execute_result"
    }
   ],
   "source": [
    "#Q3. Write a Python program to find smallest number in a list?\n",
    "def minNum(l):\n",
    "    min = l[0]\n",
    "    for i in range(1,len(l)-1):\n",
    "        if l[i]<l[i+1]:\n",
    "            min = l[i]\n",
    "    return min\n",
    "\n",
    "minNum([4,3,5,3,2,8])"
   ]
  },
  {
   "cell_type": "code",
   "execution_count": 1,
   "id": "cc861b7f",
   "metadata": {},
   "outputs": [
    {
     "name": "stdout",
     "output_type": "stream",
     "text": [
      "8\n"
     ]
    }
   ],
   "source": [
    "#Q4. Write a Python program to find largest number in a list?\n",
    "def larNum(l):\n",
    "    lar = l[0]\n",
    "    for i in l:\n",
    "        if i > lar:\n",
    "            lar = i\n",
    "    return lar\n",
    "\n",
    "print(larNum([4,3,5,3,2,8]))"
   ]
  },
  {
   "cell_type": "code",
   "execution_count": 2,
   "id": "e0f394ad",
   "metadata": {},
   "outputs": [
    {
     "name": "stdout",
     "output_type": "stream",
     "text": [
      "324\n"
     ]
    }
   ],
   "source": [
    "#Q5. Write a Python program to find second largest number in a list?\n",
    "def secLar(l):\n",
    "    l = list(set(l))\n",
    "    l.sort()\n",
    "    return l[-2]\n",
    "\n",
    "print(secLar([2,54,23,562,324]))"
   ]
  },
  {
   "cell_type": "code",
   "execution_count": 3,
   "id": "517a4c8a",
   "metadata": {},
   "outputs": [
    {
     "name": "stdout",
     "output_type": "stream",
     "text": [
      "54\n"
     ]
    }
   ],
   "source": [
    "#Q6. Write a Python program to find N largest elements from a list?\n",
    "def secLar(l,n):\n",
    "    l = list(set(l))\n",
    "    l.sort()\n",
    "    return l[-n]\n",
    "\n",
    "print(secLar([2,54,23,562,324],3))"
   ]
  },
  {
   "cell_type": "code",
   "execution_count": 4,
   "id": "ad69e605",
   "metadata": {},
   "outputs": [
    {
     "data": {
      "text/plain": [
       "[34, 46, 54, 88]"
      ]
     },
     "execution_count": 4,
     "metadata": {},
     "output_type": "execute_result"
    }
   ],
   "source": [
    "#Q7. Write a Python program to print even numbers in a list?\n",
    "def even(l):\n",
    "    return [x for x in l if x%2 == 0]\n",
    "even([34,5,46,54,7,65,88,47])"
   ]
  },
  {
   "cell_type": "code",
   "execution_count": 6,
   "id": "d977a628",
   "metadata": {},
   "outputs": [
    {
     "data": {
      "text/plain": [
       "[5, 7, 65, 47]"
      ]
     },
     "execution_count": 6,
     "metadata": {},
     "output_type": "execute_result"
    }
   ],
   "source": [
    "#Q8. Write a Python program to print odd numbers in a List?\n",
    "def odd(l):\n",
    "    return [x for x in l if x%2 != 0]\n",
    "odd([34,5,46,54,7,65,88,47])"
   ]
  },
  {
   "cell_type": "code",
   "execution_count": 10,
   "id": "340843a4",
   "metadata": {},
   "outputs": [
    {
     "name": "stdout",
     "output_type": "stream",
     "text": [
      "Original list: [1, 'ashis', [], 12.456, [], 123]\n",
      "After removalL:\n",
      "[1, 'ashis', 12.456, 123]\n"
     ]
    }
   ],
   "source": [
    "#Q9. Write a Python program to Remove empty List from List?\n",
    "def remEmpty(l):\n",
    "    print(\"Original list:\",l)\n",
    "    print(\"After removalL:\")\n",
    "    return [i for i in l if i != []]\n",
    "print(remEmpty([1,\"ashis\",[],12.456,[],123]))"
   ]
  },
  {
   "cell_type": "code",
   "execution_count": 11,
   "id": "eebe9510",
   "metadata": {},
   "outputs": [
    {
     "name": "stdout",
     "output_type": "stream",
     "text": [
      "org list: [1, 2, 3, 4]\n",
      "new list [1, 2, 3, 4]\n"
     ]
    }
   ],
   "source": [
    "#Q10. Write a Python program to Cloning or Copying a list?\n",
    "def clone(l):\n",
    "    print(\"org list:\",l)\n",
    "    newL = l.copy()\n",
    "    print(\"new list\",newL)\n",
    "clone([1,2,3,4])"
   ]
  },
  {
   "cell_type": "code",
   "execution_count": 1,
   "id": "b53bc25f",
   "metadata": {},
   "outputs": [
    {
     "name": "stdout",
     "output_type": "stream",
     "text": [
      "3\n"
     ]
    }
   ],
   "source": [
    "#Q11. Write a Python program to Count occurrences of an element in a list?\n",
    "def count(lst, x):\n",
    "    count = 0\n",
    "    for ele in lst:\n",
    "        if (ele == x):\n",
    "            count = count + 1\n",
    "    return count\n",
    "\n",
    "print(count([1,2,3,4,2,5,4,3,2,5],2))"
   ]
  },
  {
   "cell_type": "code",
   "execution_count": null,
   "id": "5186f87a",
   "metadata": {},
   "outputs": [],
   "source": []
  }
 ],
 "metadata": {
  "kernelspec": {
   "display_name": "Python 3 (ipykernel)",
   "language": "python",
   "name": "python3"
  },
  "language_info": {
   "codemirror_mode": {
    "name": "ipython",
    "version": 3
   },
   "file_extension": ".py",
   "mimetype": "text/x-python",
   "name": "python",
   "nbconvert_exporter": "python",
   "pygments_lexer": "ipython3",
   "version": "3.9.12"
  }
 },
 "nbformat": 4,
 "nbformat_minor": 5
}
