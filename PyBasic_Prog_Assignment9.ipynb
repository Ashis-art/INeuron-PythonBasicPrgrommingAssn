{
 "cells": [
  {
   "cell_type": "code",
   "execution_count": 4,
   "id": "8f271e5a",
   "metadata": {},
   "outputs": [
    {
     "name": "stdout",
     "output_type": "stream",
     "text": [
      "89 is Disarium\n",
      "121 is not a Disarium\n"
     ]
    }
   ],
   "source": [
    "#Q1. Write a Python program to check if the given number is a Disarium Number\n",
    "def dis(num):\n",
    "    n = num\n",
    "    sum = 0\n",
    "    pos = len(str(n))\n",
    "    while(n>0):\n",
    "        d = n%10\n",
    "        sum = (int)(sum + pow(d,pos))\n",
    "        n = n//10\n",
    "        pos-=1\n",
    "    if num == sum:\n",
    "        print(f\"{num} is Disarium\")\n",
    "    else:\n",
    "        print(f\"{num} is not a Disarium\")\n",
    "\n",
    "dis(89)\n",
    "dis(121)"
   ]
  },
  {
   "cell_type": "code",
   "execution_count": 5,
   "id": "cad8191a",
   "metadata": {},
   "outputs": [
    {
     "name": "stdout",
     "output_type": "stream",
     "text": [
      "1 is Disarium\n",
      "2 is Disarium\n",
      "3 is Disarium\n",
      "4 is Disarium\n",
      "5 is Disarium\n",
      "6 is Disarium\n",
      "7 is Disarium\n",
      "8 is Disarium\n",
      "9 is Disarium\n",
      "89 is Disarium\n",
      "135 is Disarium\n",
      "175 is Disarium\n",
      "518 is Disarium\n",
      "598 is Disarium\n"
     ]
    }
   ],
   "source": [
    "#Q2. Write a Python program to print all disarium numbers between 1 to 100?\n",
    "def disRange():\n",
    "    for i in range(1,1000):\n",
    "        n = i\n",
    "        sum = 0\n",
    "        pos = len(str(n))\n",
    "        while(n>0):\n",
    "            d = n%10\n",
    "            sum = (int)(sum + pow(d,pos))\n",
    "            n = n//10\n",
    "            pos-=1\n",
    "        if i == sum:\n",
    "            print(f\"{i} is Disarium\")\n",
    "\n",
    "disRange()"
   ]
  },
  {
   "cell_type": "code",
   "execution_count": 1,
   "id": "497be9d8",
   "metadata": {},
   "outputs": [
    {
     "name": "stdout",
     "output_type": "stream",
     "text": [
      "13 is a Happy number\n"
     ]
    }
   ],
   "source": [
    "#Q3. Write a Python program to check if the given number is Happy Number?\n",
    "def numSquareSum(n):\n",
    "    squareSum = 0;\n",
    "    while(n):\n",
    "        squareSum += (n % 10) * (n % 10);\n",
    "        n = int(n / 10);\n",
    "    return squareSum;\n",
    "\n",
    "def isHappynumber(n):\n",
    " \n",
    "    slow = n;\n",
    "    fast = n;\n",
    "    while(True):\n",
    "        slow = numSquareSum(slow);\n",
    "        fast = numSquareSum(numSquareSum(fast));\n",
    "        if(slow != fast):\n",
    "            continue;\n",
    "        else:\n",
    "            break;\n",
    "    if(slow == 1):\n",
    "        print(n , \"is a Happy number\")\n",
    "    else:\n",
    "        print(n , \"is not a Happy number\");\n",
    "isHappynumber(13)"
   ]
  },
  {
   "cell_type": "code",
   "execution_count": 3,
   "id": "1c4cc7b2",
   "metadata": {},
   "outputs": [
    {
     "name": "stdout",
     "output_type": "stream",
     "text": [
      "1\n",
      "7\n",
      "10\n",
      "13\n",
      "19\n",
      "23\n",
      "28\n",
      "31\n",
      "32\n",
      "44\n",
      "49\n",
      "68\n",
      "70\n",
      "79\n",
      "82\n",
      "86\n",
      "91\n",
      "94\n",
      "97\n"
     ]
    }
   ],
   "source": [
    "#Q4. Write a Python program to print all happy numbers between 1 and 100?\n",
    "def numSquareSum(n):\n",
    "    squareSum = 0;\n",
    "    while(n):\n",
    "        squareSum += (n % 10) * (n % 10);\n",
    "        n = int(n / 10);\n",
    "    return squareSum;\n",
    "\n",
    "def isHappynumber():\n",
    "    for i in range(1,100):\n",
    "        slow = i;\n",
    "        fast = i;\n",
    "        while(True):\n",
    "            slow = numSquareSum(slow);\n",
    "            fast = numSquareSum(numSquareSum(fast));\n",
    "            if(slow != fast):\n",
    "                continue;\n",
    "            else:\n",
    "                break;\n",
    "        if(slow == 1):\n",
    "            print(i)\n",
    "isHappynumber()"
   ]
  },
  {
   "cell_type": "code",
   "execution_count": 4,
   "id": "99605039",
   "metadata": {},
   "outputs": [
    {
     "name": "stdout",
     "output_type": "stream",
     "text": [
      "12 is a Harshed num\n",
      "17 is not a harshed number\n"
     ]
    }
   ],
   "source": [
    "#Q5. Write a Python program to determine whether the given number is a Harshad Number?\n",
    "def hars(num):\n",
    "    n = num\n",
    "    sum = 0\n",
    "    while(n>0):\n",
    "        sum = sum+n%10\n",
    "        n = n//10\n",
    "    if num % sum == 0:\n",
    "        print(f\"{num} is a Harshed num\")\n",
    "    else:\n",
    "        print(f\"{num} is not a harshed number\")\n",
    "\n",
    "hars(12)\n",
    "hars(17)"
   ]
  },
  {
   "cell_type": "code",
   "execution_count": 9,
   "id": "508057fa",
   "metadata": {},
   "outputs": [
    {
     "name": "stdout",
     "output_type": "stream",
     "text": [
      "2\n",
      "6\n",
      "12\n",
      "20\n",
      "30\n",
      "42\n",
      "56\n",
      "72\n",
      "90\n"
     ]
    }
   ],
   "source": [
    "#Q6. Write a Python program to print all pronic numbers between 1 and 100?\n",
    "import math\n",
    "def pronic():\n",
    "    for i in range(1,100):\n",
    "        j=0\n",
    "        while j <= (int)(math.sqrt(i)):\n",
    "            if i == j*(j+1):\n",
    "                print(i)\n",
    "            j+=1\n",
    "pronic()"
   ]
  }
 ],
 "metadata": {
  "kernelspec": {
   "display_name": "Python 3 (ipykernel)",
   "language": "python",
   "name": "python3"
  },
  "language_info": {
   "codemirror_mode": {
    "name": "ipython",
    "version": 3
   },
   "file_extension": ".py",
   "mimetype": "text/x-python",
   "name": "python",
   "nbconvert_exporter": "python",
   "pygments_lexer": "ipython3",
   "version": "3.9.12"
  }
 },
 "nbformat": 4,
 "nbformat_minor": 5
}
