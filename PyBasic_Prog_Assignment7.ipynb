{
 "cells": [
  {
   "cell_type": "code",
   "execution_count": 2,
   "id": "d4e17a1f",
   "metadata": {},
   "outputs": [
    {
     "name": "stdout",
     "output_type": "stream",
     "text": [
      "sum of array [1, 2, 3, 4, 5] : 15\n"
     ]
    }
   ],
   "source": [
    "#Q1. Write a Python Program to find sum of array?\n",
    "def sumarr(arr):\n",
    "    sum = 0\n",
    "    for i in arr:\n",
    "        sum += i\n",
    "    return sum\n",
    "\n",
    "arr = [1,2,3,4,5]\n",
    "print(f\"sum of array {arr} : {sumarr(arr)}\")"
   ]
  },
  {
   "cell_type": "code",
   "execution_count": 3,
   "id": "606d15a0",
   "metadata": {},
   "outputs": [
    {
     "name": "stdout",
     "output_type": "stream",
     "text": [
      "Large element in l:  5\n"
     ]
    }
   ],
   "source": [
    "#Q2. Write a Python Program to find largest element in an array?\n",
    "def lar(l):\n",
    "    max = 0\n",
    "    for i in l:\n",
    "        if i>max:\n",
    "            max = i\n",
    "    return max\n",
    "\n",
    "l = [1,5,3,4,2]\n",
    "print(\"Large element in l: \",lar(l))"
   ]
  },
  {
   "cell_type": "code",
   "execution_count": 4,
   "id": "19c57654",
   "metadata": {},
   "outputs": [
    {
     "name": "stdout",
     "output_type": "stream",
     "text": [
      "[5, 4, 3, 2, 1]\n"
     ]
    }
   ],
   "source": [
    "#Q3. Write a Python Program for array rotation?\n",
    "def rotate(l):\n",
    "    return l[::-1]\n",
    "\n",
    "l = [1,2,3,4,5]\n",
    "print(rotate(l))"
   ]
  },
  {
   "cell_type": "code",
   "execution_count": 13,
   "id": "19f1ece7",
   "metadata": {},
   "outputs": [
    {
     "name": "stdout",
     "output_type": "stream",
     "text": [
      "[5, 6, 52, 36, 12, 10]\n"
     ]
    }
   ],
   "source": [
    "#Q4. Write a Python Program to Split the array and add the first part to the end?\n",
    "def splitAdd(l, k):\n",
    "    l1 = l[:k]\n",
    "    l2 = l[k::]+l1[::]\n",
    "    return l2\n",
    "\n",
    "arr = [12, 10, 5, 6, 52, 36]\n",
    "k = 2\n",
    "print(splitAdd(arr,k))"
   ]
  },
  {
   "cell_type": "code",
   "execution_count": 20,
   "id": "2c3bae7f",
   "metadata": {},
   "outputs": [
    {
     "name": "stdout",
     "output_type": "stream",
     "text": [
      "Array is Monotonic\n"
     ]
    }
   ],
   "source": [
    "#Q5. Write a Python Program to check if given array is Monotonic?\n",
    "def monotonic(l):\n",
    "    n = len(l)\n",
    "    inc = True\n",
    "    dec = False\n",
    "    for i in range(0,n-1):\n",
    "        if arr[i]<arr[i+1]:\n",
    "            inc = False\n",
    "        if arr[i]>arr[i+1]:\n",
    "            dec = False\n",
    "        return inc or dec\n",
    "l = [1,2,3,4,5]\n",
    "if(monotonic(l) == True):\n",
    "    print(\"Array is Monotonic\")\n",
    "else:\n",
    "    print(\"Array is not Monotonic\")"
   ]
  }
 ],
 "metadata": {
  "kernelspec": {
   "display_name": "Python 3 (ipykernel)",
   "language": "python",
   "name": "python3"
  },
  "language_info": {
   "codemirror_mode": {
    "name": "ipython",
    "version": 3
   },
   "file_extension": ".py",
   "mimetype": "text/x-python",
   "name": "python",
   "nbconvert_exporter": "python",
   "pygments_lexer": "ipython3",
   "version": "3.9.12"
  }
 },
 "nbformat": 4,
 "nbformat_minor": 5
}
