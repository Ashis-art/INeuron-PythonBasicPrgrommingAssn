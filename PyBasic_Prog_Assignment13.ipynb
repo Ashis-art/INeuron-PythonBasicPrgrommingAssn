{
 "cells": [
  {
   "cell_type": "markdown",
   "id": "41982ce2",
   "metadata": {},
   "source": [
    "# Question 1:\n",
    "Write a program that calculates and prints the value according to the given formula:\n",
    "Q = Square root of [(2 * C * D)/H]\n",
    "Following are the fixed values of C and H:\n",
    "C is 50. H is 30.\n",
    "D is the variable whose values should be input to your program in a comma-separated\n",
    "sequence.\n",
    "Example\n",
    "Let us assume the following comma separated input sequence is given to the program:\n",
    "100,150,180\n",
    "The output of the program should be:\n",
    "18,22,24"
   ]
  },
  {
   "cell_type": "code",
   "execution_count": 16,
   "id": "f3b0b898",
   "metadata": {},
   "outputs": [
    {
     "name": "stdout",
     "output_type": "stream",
     "text": [
      "Enter comma separated value: 100,150,180\n",
      "Result: 18,22,24\n"
     ]
    }
   ],
   "source": [
    "import math\n",
    "def calcQ() -> int:\n",
    "    \"\"\"this fucntion will calculate the result of Q = Square root of [(2 * C * D)/H] \"\"\"\n",
    "    C = 50\n",
    "    H = 30\n",
    "    D = eval(input(\"Enter comma separated value: \"))\n",
    "    \n",
    "    res = []\n",
    "    \n",
    "    for i in D:\n",
    "        Q = str(int(math.sqrt((2 * C * i)/H)))\n",
    "        res.append(Q)\n",
    "    \n",
    "    print(\"Result: {}\".format(\",\".join(res)))\n",
    "\n",
    "calcQ()"
   ]
  },
  {
   "cell_type": "markdown",
   "id": "972aaf1f",
   "metadata": {},
   "source": [
    "# Question 2:\n",
    "Write a program which takes 2 digits, X,Y as input and generates a 2-dimensional array. The\n",
    "element value in the i-th row and j-th column of the array should be i*j.\n",
    "Note: i=0,1.., X-1; j=0,1,¡Y-1.\n",
    "Example\n",
    "Suppose the following inputs are given to the program:\n",
    "3,5\n",
    "Then, the output of the program should be:\n",
    "[[0, 0, 0, 0, 0], [0, 1, 2, 3, 4], [0, 2, 4, 6, 8]]"
   ]
  },
  {
   "cell_type": "code",
   "execution_count": 24,
   "id": "56f4b437",
   "metadata": {},
   "outputs": [
    {
     "name": "stdout",
     "output_type": "stream",
     "text": [
      "Enter X:3\n",
      "Enter Y:5\n",
      "2D array:  [[0, 0, 0, 0, 0], [0, 1, 2, 3, 4], [0, 2, 4, 6, 8]]\n"
     ]
    }
   ],
   "source": [
    "def gebArr():\n",
    "    X = int(input(\"Enter X:\"))\n",
    "    Y = int(input(\"Enter Y:\"))\n",
    "    arr = [[x*y for y in range(Y)] for x in range(X)]\n",
    "    print(\"2D array: \",arr)\n",
    "gebArr()"
   ]
  },
  {
   "cell_type": "markdown",
   "id": "cd4bf0de",
   "metadata": {},
   "source": [
    "# Question 3:\n",
    "Write a program that accepts a comma separated sequence of words as input and prints the\n",
    "words in a comma-separated sequence after sorting them alphabetically.\n",
    "Suppose the following input is supplied to the program:\n",
    "without,hello,bag,world\n",
    "Then, the output should be:\n",
    "bag,hello,without,world"
   ]
  },
  {
   "cell_type": "code",
   "execution_count": 25,
   "id": "ebe39f28",
   "metadata": {},
   "outputs": [
    {
     "name": "stdout",
     "output_type": "stream",
     "text": [
      "Enter comma separated words: \"without\",\"hello\",\"bag\",\"world\"\n",
      "Sorted List bag,hello,without,world:\n"
     ]
    }
   ],
   "source": [
    "def sortAlpha():\n",
    "    seq = eval(input(\"Enter comma separated words: \"))\n",
    "    l = []\n",
    "    for i in seq:\n",
    "        l.append(i)\n",
    "    l = sorted(l)\n",
    "    print(\"Sorted List {}:\".format(\",\".join(l)))\n",
    "    \n",
    "sortAlpha()"
   ]
  },
  {
   "cell_type": "markdown",
   "id": "c6ed8218",
   "metadata": {},
   "source": [
    "# Question 4:\n",
    "Write a program that accepts a sequence of whitespace separated words as input and prints\n",
    "the words after removing all duplicate words and sorting them alphanumerically.\n",
    "Suppose the following input is supplied to the program:\n",
    "hello world and practice makes perfect and hello world again\n",
    "Then, the output should be:\n",
    "again and hello makes perfect practice world"
   ]
  },
  {
   "cell_type": "code",
   "execution_count": 34,
   "id": "38a4e89c",
   "metadata": {},
   "outputs": [
    {
     "name": "stdout",
     "output_type": "stream",
     "text": [
      "Enter white space words:hello world and practice makes perfect and hello world again\n",
      "again and hello makes perfect practice world\n"
     ]
    }
   ],
   "source": [
    "from collections import OrderedDict\n",
    "def sortAlnum():\n",
    "    seq = input(\"Enter white space words:\")\n",
    "    res = ' '.join(sorted(list(set(seq.split(\" \")))))\n",
    "    print(res)\n",
    "sortAlnum()"
   ]
  },
  {
   "cell_type": "markdown",
   "id": "25b20e6c",
   "metadata": {},
   "source": [
    "# Question 5:\n",
    "Write a program that accepts a sentence and calculate the number of letters and digits.\n",
    "Suppose the following input is supplied to the program:\n",
    "hello world! 123\n",
    "Then, the output should be:\n",
    "LETTERS 10"
   ]
  },
  {
   "cell_type": "code",
   "execution_count": 43,
   "id": "87618376",
   "metadata": {},
   "outputs": [
    {
     "name": "stdout",
     "output_type": "stream",
     "text": [
      "Enter a sentence:hello world!123\n",
      "LETTERS  10\n",
      "DIGITS  3\n"
     ]
    }
   ],
   "source": [
    "import re\n",
    "def letDig():\n",
    "    sen = input(\"Enter a sentence:\")\n",
    "    l=d=0\n",
    "    for i in sen:\n",
    "        if i.isdigit():\n",
    "            d += 1\n",
    "        elif i.isalpha():\n",
    "            l += 1\n",
    "    print(\"LETTERS \",l)\n",
    "    print(\"DIGITS \",d)\n",
    "\n",
    "letDig()"
   ]
  },
  {
   "cell_type": "markdown",
   "id": "69cbf0f0",
   "metadata": {},
   "source": [
    "# Question 6:\n",
    "A website requires the users to input username and password to register. Write a program to\n",
    "check the validity of password input by users.\n",
    "Following are the criteria for checking the password:\n",
    "1. At least 1 letter between [a-z]\n",
    "2. At least 1 number between [0-9]\n",
    "1. At least 1 letter between [A-Z]\n",
    "3. At least 1 character from [$#@]\n",
    "4. Minimum length of transaction password: 6\n",
    "5. Maximum length of transaction password: 12\n",
    "Your program should accept a sequence of comma separated passwords and will check them\n",
    "according to the above criteria. Passwords that match the criteria are to be printed, each\n",
    "separated by a comma.\n",
    "Example\n",
    "If the following passwords are given as input to the program:\n",
    "ABd1234@1,a F1#,2w3E*,2We3345\n",
    "Then, the output of the program should be:\n",
    "ABd1234@1"
   ]
  },
  {
   "cell_type": "code",
   "execution_count": 1,
   "id": "c22e182e",
   "metadata": {},
   "outputs": [
    {
     "name": "stdout",
     "output_type": "stream",
     "text": [
      "Enter passwordAshi ashisssa@12#q ASHISS Ashis@123# ashi@123 ash@123$A\n",
      "Valid password: Ashis@123# ash@123$A\n"
     ]
    }
   ],
   "source": [
    "user_input = input(\"Enter password\")\n",
    "passwords = user_input.split(\" \")\n",
    "special_chars = [\"$\",\"#\",\"@\"]\n",
    "valid = []\n",
    "\n",
    "for x in passwords:\n",
    "    #check length\n",
    "    if(len(x) > 12 or len(x) < 6):\n",
    "        continue\n",
    "\n",
    "    #check if has both uppercase and lower\n",
    "    if (x.isupper() or x.islower()): \n",
    "        continue\n",
    "    \n",
    "    #check numbers\n",
    "    has_number = any(char.isdigit() for char in x)\n",
    "    if(not has_number):\n",
    "        continue\n",
    "    \n",
    "    #check if has special character\n",
    "    has_char = any(char in special_chars for char in x)\n",
    "    if(not has_char):\n",
    "        continue\n",
    "\n",
    "    #only reached if all checks are passed\n",
    "    valid.append(x)\n",
    "print(\"Valid password: {}\".format(\" \".join(valid)))"
   ]
  }
 ],
 "metadata": {
  "kernelspec": {
   "display_name": "Python 3 (ipykernel)",
   "language": "python",
   "name": "python3"
  },
  "language_info": {
   "codemirror_mode": {
    "name": "ipython",
    "version": 3
   },
   "file_extension": ".py",
   "mimetype": "text/x-python",
   "name": "python",
   "nbconvert_exporter": "python",
   "pygments_lexer": "ipython3",
   "version": "3.9.12"
  }
 },
 "nbformat": 4,
 "nbformat_minor": 5
}
