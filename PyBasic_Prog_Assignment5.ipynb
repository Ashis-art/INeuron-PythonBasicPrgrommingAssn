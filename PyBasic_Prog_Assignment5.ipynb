{
 "cells": [
  {
   "cell_type": "code",
   "execution_count": 1,
   "id": "c69cdfa4",
   "metadata": {},
   "outputs": [],
   "source": [
    "#Q1. Write a Python Program to Find LCM?\n",
    "def lcm(a,b):\n",
    "    if a>b :\n",
    "        max = a\n",
    "    else:\n",
    "        max = b\n",
    "    \n",
    "    while(True):\n",
    "        if max%a == 0 and max%b == 0:\n",
    "            print(max)\n",
    "            break\n",
    "        max += 1"
   ]
  },
  {
   "cell_type": "code",
   "execution_count": 3,
   "id": "06591ece",
   "metadata": {},
   "outputs": [
    {
     "name": "stdout",
     "output_type": "stream",
     "text": [
      "24\n"
     ]
    }
   ],
   "source": [
    "lcm(12,24)"
   ]
  },
  {
   "cell_type": "code",
   "execution_count": 5,
   "id": "d7aedcb2",
   "metadata": {},
   "outputs": [],
   "source": [
    "#Q2. Write a Python Program to Find HCF?\n",
    "\n",
    "def findhcf(a,b):\n",
    "    if a<b:\n",
    "        min = a\n",
    "    else:\n",
    "        min = b\n",
    "    \n",
    "    for i in range(1,min+1):\n",
    "        if(a%i == 0 and b%i == 0):\n",
    "                hcf = i\n",
    "    return hcf"
   ]
  },
  {
   "cell_type": "code",
   "execution_count": 7,
   "id": "723cbf00",
   "metadata": {},
   "outputs": [
    {
     "data": {
      "text/plain": [
       "4"
      ]
     },
     "execution_count": 7,
     "metadata": {},
     "output_type": "execute_result"
    }
   ],
   "source": [
    "findhcf(56,12)"
   ]
  },
  {
   "cell_type": "code",
   "execution_count": 13,
   "id": "fa70c588",
   "metadata": {},
   "outputs": [],
   "source": [
    "#Q3. Write a Python Program to Convert Decimal to Binary, Octal and Hexadecimal?\n",
    "\n",
    "def dec_bin(n):\n",
    "    if n >= 1:\n",
    "        dec_bin(n//2)\n",
    "    print(n%2,end=\" \")"
   ]
  },
  {
   "cell_type": "code",
   "execution_count": 14,
   "id": "c58ab3d8",
   "metadata": {},
   "outputs": [],
   "source": [
    "def dec_oct(n):\n",
    "    if n >= 1:\n",
    "        dec_oct(n//8)\n",
    "    print(n%8,end=\" \")"
   ]
  },
  {
   "cell_type": "code",
   "execution_count": 35,
   "id": "1b11dcc4",
   "metadata": {},
   "outputs": [],
   "source": [
    "conversion_table = ['0', '1', '2', '3', '4', '5', '6', '7', '8', '9', 'A' , 'B', 'C', 'D', 'E', 'F']\n",
    "\n",
    "def dec_hex(n):\n",
    "    if(n<=0):\n",
    "        return ''\n",
    "    remainder = n%16\n",
    "    return  dec_hex(n//16)+conversion_table[remainder]"
   ]
  },
  {
   "cell_type": "code",
   "execution_count": 17,
   "id": "2770ea23",
   "metadata": {},
   "outputs": [
    {
     "name": "stdout",
     "output_type": "stream",
     "text": [
      "0 1 0 0 0 0 "
     ]
    }
   ],
   "source": [
    "dec_bin(16)"
   ]
  },
  {
   "cell_type": "code",
   "execution_count": 18,
   "id": "f6037937",
   "metadata": {},
   "outputs": [
    {
     "name": "stdout",
     "output_type": "stream",
     "text": [
      "0 2 0 "
     ]
    }
   ],
   "source": [
    "dec_oct(16)"
   ]
  },
  {
   "cell_type": "code",
   "execution_count": 36,
   "id": "cbd67537",
   "metadata": {},
   "outputs": [
    {
     "name": "stdout",
     "output_type": "stream",
     "text": [
      "6E\n"
     ]
    }
   ],
   "source": [
    "print(dec_hex(110))"
   ]
  },
  {
   "cell_type": "code",
   "execution_count": 38,
   "id": "e201b27d",
   "metadata": {},
   "outputs": [
    {
     "name": "stdout",
     "output_type": "stream",
     "text": [
      "Binary: 111000\n",
      "Octal: 70\n",
      "Hexadecimal 38\n"
     ]
    }
   ],
   "source": [
    "#by using python method\n",
    "def convert(n):\n",
    "    print(\"Binary:\",bin(n)[2:])\n",
    "    print(\"Octal:\",oct(n)[2:])\n",
    "    print(\"Hexadecimal\",hex(n)[2:])\n",
    "convert(56)"
   ]
  },
  {
   "cell_type": "code",
   "execution_count": 39,
   "id": "62a8c93f",
   "metadata": {},
   "outputs": [],
   "source": [
    "#Q4. Write a Python Program To Find ASCII value of a character?\n",
    "def ascii(c):\n",
    "    print(f\"Ascii of {c} is {ord(c)}\")"
   ]
  },
  {
   "cell_type": "code",
   "execution_count": 40,
   "id": "607bd9b2",
   "metadata": {},
   "outputs": [
    {
     "name": "stdout",
     "output_type": "stream",
     "text": [
      "Ascii of A is 65\n"
     ]
    }
   ],
   "source": [
    "ascii('A')"
   ]
  },
  {
   "cell_type": "code",
   "execution_count": 43,
   "id": "2230779e",
   "metadata": {},
   "outputs": [
    {
     "name": "stdout",
     "output_type": "stream",
     "text": [
      "Welcome To My Calculator!!! \n",
      "Select Operation>>>\n",
      "1.Add \n",
      "2. Substract \n",
      "3. Multiplication \n",
      "4. Dvivision \n",
      "5. Exit\n",
      "Enter choice (1/2/3/4/5):1\n",
      "Enter number a:12\n",
      "Enter number b:12\n",
      "12.0 + 12.0 = 24.0\n",
      "Enter choice (1/2/3/4/5):2\n",
      "Enter number a:23\n",
      "Enter number b:12\n",
      "23.0 - 12.0 = 11.0\n",
      "Enter choice (1/2/3/4/5):3\n",
      "Enter number a:12\n",
      "Enter number b:4\n",
      "12.0 * 4.0 = 48.0\n",
      "Enter choice (1/2/3/4/5):4\n",
      "Enter number a:12\n",
      "Enter number b:4\n",
      "12.0 / 4.0 = 3.0\n",
      "Enter choice (1/2/3/4/5):6\n",
      "Invald Input, Try Again:\n",
      "Enter choice (1/2/3/4/5):5\n",
      "Thank You, Visit our app again !!!\n"
     ]
    }
   ],
   "source": [
    "#Q5. Write a Python Program to Make a Simple Calculator with 4 basic mathematical operations?\n",
    "\n",
    "def add(a,b):\n",
    "    return a+b\n",
    "\n",
    "def sub(a,b):\n",
    "    return a-b\n",
    "\n",
    "def mul(a,b):\n",
    "    return a*b\n",
    "\n",
    "def div(a,b):\n",
    "    return a/b\n",
    "\n",
    "print(\"Welcome To My Calculator!!! \\nSelect Operation>>>\")\n",
    "print(\"1.Add \\n2. Substract \\n3. Multiplication \\n4. Dvivision \\n5. Exit\")\n",
    "\n",
    "while True:\n",
    "    choice = input(\"Enter choice (1/2/3/4/5):\")\n",
    "    \n",
    "    if choice in ('1','2','3','4'):\n",
    "        a = float(input('Enter number a:'))\n",
    "        b = float(input('Enter number b:'))\n",
    "        \n",
    "        if choice == '1':\n",
    "            print(f\"{a} + {b} = {add(a,b)}\")\n",
    "        elif choice == '2':\n",
    "            print(f\"{a} - {b} = {sub(a,b)}\")\n",
    "        elif choice == '3':\n",
    "            print(f\"{a} * {b} = {mul(a,b)}\")\n",
    "        elif choice == '4':\n",
    "            print(f\"{a} / {b} = {div(a,b)}\")\n",
    "    elif choice == '5':\n",
    "        print(\"Thank You, Visit our app again !!!\")\n",
    "        break\n",
    "    else:\n",
    "        print(\"Invald Input, Try Again:\")"
   ]
  },
  {
   "cell_type": "code",
   "execution_count": null,
   "id": "5f2666c5",
   "metadata": {},
   "outputs": [],
   "source": []
  }
 ],
 "metadata": {
  "kernelspec": {
   "display_name": "Python 3 (ipykernel)",
   "language": "python",
   "name": "python3"
  },
  "language_info": {
   "codemirror_mode": {
    "name": "ipython",
    "version": 3
   },
   "file_extension": ".py",
   "mimetype": "text/x-python",
   "name": "python",
   "nbconvert_exporter": "python",
   "pygments_lexer": "ipython3",
   "version": "3.9.12"
  }
 },
 "nbformat": 4,
 "nbformat_minor": 5
}
