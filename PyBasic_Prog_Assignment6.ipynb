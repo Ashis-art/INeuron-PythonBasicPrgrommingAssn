{
 "cells": [
  {
   "cell_type": "code",
   "execution_count": 4,
   "id": "bf2efe2a",
   "metadata": {},
   "outputs": [
    {
     "name": "stdout",
     "output_type": "stream",
     "text": [
      "Enter number upto which you want to print the sequence:10\n",
      "0 1 1 2 3 5 8 13 21 34 "
     ]
    }
   ],
   "source": [
    "#Q1. Write a Python Program to Display Fibonacci Sequence Using Recursion?\n",
    "\n",
    "def fibo(n):\n",
    "    if n <= 1:\n",
    "        return n\n",
    "    else:\n",
    "        return(fibo(n-1)+fibo(n-2))\n",
    "\n",
    "n = int(input(\"Enter number upto which you want to print the sequence:\"))\n",
    "if n<=0:\n",
    "    print(\"n should not be less than or equals to 0\")\n",
    "else:\n",
    "    for i in range(n):\n",
    "        print(fibo(i),end = \" \")"
   ]
  },
  {
   "cell_type": "code",
   "execution_count": 6,
   "id": "c07fe3de",
   "metadata": {},
   "outputs": [
    {
     "name": "stdout",
     "output_type": "stream",
     "text": [
      "Enter number5\n",
      "120\n"
     ]
    }
   ],
   "source": [
    "#Q2. Write a Python Program to Find Factorial of Number Using Recursion?\n",
    "def fact(n):\n",
    "    if n<=1:\n",
    "        return 1\n",
    "    else:\n",
    "        return n*fact(n-1)\n",
    "\n",
    "n = int(input(\"Enter number\"))\n",
    "print(fact(n))"
   ]
  },
  {
   "cell_type": "code",
   "execution_count": 8,
   "id": "754f6590",
   "metadata": {},
   "outputs": [
    {
     "name": "stdout",
     "output_type": "stream",
     "text": [
      "Enter weight in kg:70\n",
      "Enter height in cm:170\n",
      "Your BMI:  24.221453287197235\n",
      "Awesome! You are healthy.\n"
     ]
    }
   ],
   "source": [
    "#Q3. Write a Python Program to calculate your Body Mass Index?\n",
    "def bmi(w,h):\n",
    "    return w/(h/100)**2\n",
    "\n",
    "w = float(input(\"Enter weight in kg:\"))\n",
    "h = float(input(\"Enter height in cm:\"))\n",
    "\n",
    "print(\"Your BMI: \",bmi(w,h))\n",
    "\n",
    "if bmi(w,h) <= 18.5:  \n",
    "    print(\"Oops! You are underweight.\")  \n",
    "elif bmi(w,h) <= 24.9:  \n",
    "    print(\"Awesome! You are healthy.\")  \n",
    "elif bmi(w,h) <= 29.9:  \n",
    "    the_print(\"Eee! You are overweight.\")  \n",
    "else:  \n",
    "    print(\"Seesh! You are obese.\")  "
   ]
  },
  {
   "cell_type": "code",
   "execution_count": 10,
   "id": "bcf4a02b",
   "metadata": {},
   "outputs": [
    {
     "name": "stdout",
     "output_type": "stream",
     "text": [
      "Enter number :5\n",
      "1.6094379124341003\n"
     ]
    }
   ],
   "source": [
    "#Q4. Write a Python Program to calculate the natural logarithm of any number?\n",
    "import math\n",
    "def nlog(n):\n",
    "    return math.log(n)\n",
    "n = int(input(\"Enter number :\")) \n",
    "print(nlog(n))"
   ]
  },
  {
   "cell_type": "code",
   "execution_count": 12,
   "id": "f0d94d74",
   "metadata": {},
   "outputs": [
    {
     "name": "stdout",
     "output_type": "stream",
     "text": [
      "Enter n:5\n",
      "Cube sum : 225\n"
     ]
    }
   ],
   "source": [
    "#Q5. Write a Python Program for cube sum of first n natural numbers?\n",
    "def cubeSum(n):\n",
    "    sum=0\n",
    "    for i in range(0,n+1):\n",
    "        sum += pow(i,3)\n",
    "    return sum\n",
    "n = int(input(\"Enter n:\"))\n",
    "print(\"Cube sum :\",cubeSum(n))"
   ]
  }
 ],
 "metadata": {
  "kernelspec": {
   "display_name": "Python 3 (ipykernel)",
   "language": "python",
   "name": "python3"
  },
  "language_info": {
   "codemirror_mode": {
    "name": "ipython",
    "version": 3
   },
   "file_extension": ".py",
   "mimetype": "text/x-python",
   "name": "python",
   "nbconvert_exporter": "python",
   "pygments_lexer": "ipython3",
   "version": "3.9.12"
  }
 },
 "nbformat": 4,
 "nbformat_minor": 5
}
