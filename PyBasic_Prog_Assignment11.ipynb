{
 "cells": [
  {
   "cell_type": "code",
   "execution_count": 2,
   "id": "96fa4e78",
   "metadata": {},
   "outputs": [
    {
     "data": {
      "text/plain": [
       "['hello', 'Ashis', 'developer']"
      ]
     },
     "execution_count": 2,
     "metadata": {},
     "output_type": "execute_result"
    }
   ],
   "source": [
    "#Q1. Write a Python program to find words which are greater than given length k?\n",
    "def find(s,k): \n",
    "    return [x for x in s.split() if len(x)>k]\n",
    "s = \"hello I am Ashis I am a developer\"\n",
    "find(s,3)"
   ]
  },
  {
   "cell_type": "code",
   "execution_count": 12,
   "id": "b120e6af",
   "metadata": {},
   "outputs": [
    {
     "data": {
      "text/plain": [
       "'This i ineuron assigment'"
      ]
     },
     "execution_count": 12,
     "metadata": {},
     "output_type": "execute_result"
    }
   ],
   "source": [
    "#Q2. Write a Python program for removing i-th character from a string?\n",
    "def removeI(s,i):\n",
    "    a = s[:i]\n",
    "    b = s[i+1:]\n",
    "    return a+b\n",
    "s = \"This is ineuron assigment\"\n",
    "removeI(s,6)"
   ]
  },
  {
   "cell_type": "code",
   "execution_count": 15,
   "id": "2da29549",
   "metadata": {},
   "outputs": [
    {
     "name": "stdout",
     "output_type": "stream",
     "text": [
      "This is string\n"
     ]
    }
   ],
   "source": [
    "#Q3. Write a Python program to split and join a string?\n",
    "def spjoin(s):\n",
    "    s = ' '.join(s.split(\" \"))\n",
    "    return s\n",
    "\n",
    "print(spjoin(\"This is string\"))"
   ]
  },
  {
   "cell_type": "code",
   "execution_count": 18,
   "id": "4a1c36a9",
   "metadata": {},
   "outputs": [
    {
     "name": "stdout",
     "output_type": "stream",
     "text": [
      "0101010101 is a binary string\n",
      "hi is not binary\n"
     ]
    }
   ],
   "source": [
    "#Q4. Write a Python to check if a given string is binary string or not?\n",
    "def bin(s):\n",
    "    ch = '01'\n",
    "    flag = True\n",
    "    for i in s:\n",
    "        if i not in ch:\n",
    "            flag = False\n",
    "            break\n",
    "    if(flag):\n",
    "        print(f\"{s} is a binary string\")\n",
    "    else:\n",
    "        print(f\"{s} is not binary\")\n",
    "    \n",
    "bin(\"0101010101\")\n",
    "bin(\"hi\")"
   ]
  },
  {
   "cell_type": "code",
   "execution_count": 22,
   "id": "1da2bde6",
   "metadata": {},
   "outputs": [],
   "source": [
    "#Q5. Write a Python program to find uncommon words from two Strings?\n",
    "def un(s1,s2) -> list:\n",
    "    l1 = [i for i in s1 if i not in s2]\n",
    "    l2 = [i for i in s2 if i not in s1]\n",
    "    return l1+l2"
   ]
  },
  {
   "cell_type": "code",
   "execution_count": 23,
   "id": "bdb95ba9",
   "metadata": {},
   "outputs": [
    {
     "name": "stdout",
     "output_type": "stream",
     "text": [
      "[1, 2, 6, 7]\n"
     ]
    }
   ],
   "source": [
    "print(un([1,2,3,4,5],[3,4,5,6,7]))"
   ]
  },
  {
   "cell_type": "code",
   "execution_count": 30,
   "id": "7ee3e603",
   "metadata": {},
   "outputs": [
    {
     "data": {
      "text/plain": [
       "{'i', 's', 't'}"
      ]
     },
     "execution_count": 30,
     "metadata": {},
     "output_type": "execute_result"
    }
   ],
   "source": [
    "#Q6. Write a Python to find all duplicate characters in string?\n",
    "def dup(s):\n",
    "    res = [x for x in s if s.count(x)>1 and x != \" \"]\n",
    "    return set(res)\n",
    "    \n",
    "dup(\"this is my string\")"
   ]
  },
  {
   "cell_type": "code",
   "execution_count": 31,
   "id": "08d499f8",
   "metadata": {},
   "outputs": [
    {
     "name": "stdout",
     "output_type": "stream",
     "text": [
      "It contains special character!\n"
     ]
    }
   ],
   "source": [
    "#Q7. Write a Python Program to check if a string contains any special character?\n",
    "import re\n",
    "def special(s):\n",
    "    regex = re.compile('[@_!#$%^&*()<>?/\\|}{~:]')\n",
    "    if regex.search(s) == None:\n",
    "        print(\"It does not contains any special character!\")\n",
    "    else:\n",
    "        print(\"It contains special character!\")\n",
    "special(\"Hi hello;!!\")"
   ]
  }
 ],
 "metadata": {
  "kernelspec": {
   "display_name": "Python 3 (ipykernel)",
   "language": "python",
   "name": "python3"
  },
  "language_info": {
   "codemirror_mode": {
    "name": "ipython",
    "version": 3
   },
   "file_extension": ".py",
   "mimetype": "text/x-python",
   "name": "python",
   "nbconvert_exporter": "python",
   "pygments_lexer": "ipython3",
   "version": "3.9.12"
  }
 },
 "nbformat": 4,
 "nbformat_minor": 5
}
