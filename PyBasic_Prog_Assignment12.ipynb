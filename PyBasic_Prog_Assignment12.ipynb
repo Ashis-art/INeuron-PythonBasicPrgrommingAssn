{
 "cells": [
  {
   "cell_type": "code",
   "execution_count": 3,
   "id": "ca0e50e5",
   "metadata": {},
   "outputs": [
    {
     "name": "stdout",
     "output_type": "stream",
     "text": [
      "Original dict: {1: 'abc', 2: 'def', 3: 'ghi', 4: 'abc', 5: 'def', 6: 'jkl'}\n",
      "Uniques values: ['jkl', 'ghi', 'abc', 'def']\n"
     ]
    }
   ],
   "source": [
    "#Q1. Write a Python program to Extract Unique values dictionary values?\n",
    "d = {1:\"abc\",2:\"def\",3:\"ghi\",4:\"abc\",5:\"def\",6:\"jkl\"}\n",
    "print(f\"Original dict: {d}\")\n",
    "print(f\"Uniques values: {list(set(d.values()))}\")"
   ]
  },
  {
   "cell_type": "code",
   "execution_count": 12,
   "id": "50ca627e",
   "metadata": {},
   "outputs": [
    {
     "name": "stdout",
     "output_type": "stream",
     "text": [
      "Sum of All items in d: 300\n"
     ]
    }
   ],
   "source": [
    "#Q2. Write a Python program to find the sum of all items in a dictionary?\n",
    "d = {'a':10,'b':20,'c':30,'d':40,'e':50}\n",
    "print(f'Sum of All items in d: {sum(in_dict.values())}')"
   ]
  },
  {
   "cell_type": "code",
   "execution_count": 18,
   "id": "32041361",
   "metadata": {},
   "outputs": [
    {
     "data": {
      "text/plain": [
       "{'a': 1, 'b': 2, 'c': 3, 'e': 5, 'f': 6, 'g': 7}"
      ]
     },
     "execution_count": 18,
     "metadata": {},
     "output_type": "execute_result"
    }
   ],
   "source": [
    "#Q3. Write a Python program to Merging two Dictionaries?\n",
    "def merge(d1, d2):\n",
    "    for i in d2.keys():\n",
    "        d1[i]=d2[i]\n",
    "    return d1\n",
    "\n",
    "d1 = {'a':1,'b':2,'c':3}\n",
    "d2 = {'e':5,'f':6,'g':7}\n",
    "merge(d1,d2)"
   ]
  },
  {
   "cell_type": "code",
   "execution_count": 19,
   "id": "95cd07ff",
   "metadata": {},
   "outputs": [
    {
     "name": "stdout",
     "output_type": "stream",
     "text": [
      "{'a': 1, 'b': 2, 'c': 3, 'd': 4, 'e': 5, 'f': 6, 'g': 7, 'h': 8, 'i': 9, 'j': 10}\n"
     ]
    }
   ],
   "source": [
    "#Q4. Write a Python program to convert key-values list to flat dictionary?\n",
    "l = [('a',1),('b',2),('c',3),('d',4),('e',5),('f',6),('g',7),('h',8),('i',9),('j',10)]\n",
    "print(dict(l))"
   ]
  },
  {
   "cell_type": "code",
   "execution_count": 2,
   "id": "11585385",
   "metadata": {},
   "outputs": [
    {
     "name": "stdout",
     "output_type": "stream",
     "text": [
      "Original ordered dictionary OrderedDict([('a', 10), ('b', 20), ('c', 30)])\n",
      "Final Dictionary: OrderedDict([('d', 40), ('a', 10), ('b', 20), ('c', 30)])\n"
     ]
    }
   ],
   "source": [
    "#Q5. Write a Python program to insertion at the beginning in OrderedDict?\n",
    "from collections import OrderedDict\n",
    "\n",
    "d = OrderedDict([('a',10),('b',20),('c',30)])\n",
    "\n",
    "print(f\"Original ordered dictionary {d}\")\n",
    "\n",
    "d.update({'d':40})\n",
    "\n",
    "d.move_to_end('d',last = False)\n",
    "\n",
    "print(f\"Final Dictionary: {d}\")"
   ]
  },
  {
   "cell_type": "code",
   "execution_count": 10,
   "id": "3edc2bd7",
   "metadata": {},
   "outputs": [
    {
     "name": "stdout",
     "output_type": "stream",
     "text": [
      "The order of pattern is correct\n"
     ]
    }
   ],
   "source": [
    "#Q6. Write a Python program to check order of character in string using OrderedDict()?\n",
    "def checkOrder(inp, patt):\n",
    "    d = OrderedDict.fromkeys(inp)\n",
    "    patLen = 0\n",
    "    for key,value in d.items():\n",
    "        if (key == patt[patLen]):\n",
    "            patLen = patLen + 1\n",
    "\n",
    "        if (patLen == (len(patt))):\n",
    "            return 'The order of pattern is correct'\n",
    "\n",
    "    return 'The order of pattern is incorrect'\n",
    "\n",
    "inp= 'data science'\n",
    "patt = 'sc'\n",
    "print(check_order(inp,patt))"
   ]
  }
 ],
 "metadata": {
  "kernelspec": {
   "display_name": "Python 3 (ipykernel)",
   "language": "python",
   "name": "python3"
  },
  "language_info": {
   "codemirror_mode": {
    "name": "ipython",
    "version": 3
   },
   "file_extension": ".py",
   "mimetype": "text/x-python",
   "name": "python",
   "nbconvert_exporter": "python",
   "pygments_lexer": "ipython3",
   "version": "3.9.12"
  }
 },
 "nbformat": 4,
 "nbformat_minor": 5
}
